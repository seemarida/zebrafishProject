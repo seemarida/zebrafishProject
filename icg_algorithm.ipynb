{
 "cells": [
  {
   "cell_type": "code",
   "execution_count": 2,
   "id": "62befca2-4818-44d6-90d8-2aee9c11f536",
   "metadata": {},
   "outputs": [
    {
     "name": "stderr",
     "output_type": "stream",
     "text": [
      "/Users/seemarida/anaconda3/lib/python3.11/site-packages/pandas/core/arrays/masked.py:60: UserWarning: Pandas requires version '1.3.6' or newer of 'bottleneck' (version '1.3.5' currently installed).\n",
      "  from pandas.core import (\n"
     ]
    }
   ],
   "source": [
    "import numpy as np\n",
    "import pandas as pd\n",
    "import matplotlib.pyplot as plt"
   ]
  },
  {
   "cell_type": "code",
   "execution_count": 3,
   "id": "9900f8dc-d701-46d5-b4b6-f035f80aeab4",
   "metadata": {},
   "outputs": [],
   "source": [
    "labcoord = np.load('PTZ-WILDTYPE-02_2photon_sess-01-6dpf_BLN_run-01_labcoord.npy')\n",
    "regtrace = np.load('PTZ-WILDTYPE-02_2photon_sess-01-6dpf_BLN_run-01_regdeltaff.npy')"
   ]
  },
  {
   "cell_type": "code",
   "execution_count": 4,
   "id": "6d159d9a-5d47-4409-8094-b02931a3d4c1",
   "metadata": {},
   "outputs": [
    {
     "data": {
      "text/plain": [
       "(8180, 4914)"
      ]
     },
     "execution_count": 4,
     "metadata": {},
     "output_type": "execute_result"
    }
   ],
   "source": [
    "regtrace.shape"
   ]
  },
  {
   "cell_type": "code",
   "execution_count": 5,
   "id": "e87b2389-48cc-43fc-999d-f586e042213a",
   "metadata": {},
   "outputs": [
    {
     "data": {
      "text/plain": [
       "(8180, 5)"
      ]
     },
     "execution_count": 5,
     "metadata": {},
     "output_type": "execute_result"
    }
   ],
   "source": [
    "labcoord.shape"
   ]
  },
  {
   "cell_type": "code",
   "execution_count": 6,
   "id": "a71ed7db-5c68-4ba0-9607-996eb35f06f6",
   "metadata": {},
   "outputs": [
    {
     "data": {
      "text/plain": [
       "(5, 4914)"
      ]
     },
     "execution_count": 6,
     "metadata": {},
     "output_type": "execute_result"
    }
   ],
   "source": [
    "regtrace[:5,:].shape"
   ]
  },
  {
   "cell_type": "code",
   "execution_count": 9,
   "id": "b41823b8-9ba7-4de3-a09c-4964747879f7",
   "metadata": {},
   "outputs": [
    {
     "data": {
      "text/plain": [
       "(8180, 4914)"
      ]
     },
     "execution_count": 9,
     "metadata": {},
     "output_type": "execute_result"
    }
   ],
   "source": [
    "regtrace.shape"
   ]
  },
  {
   "cell_type": "code",
   "execution_count": 10,
   "id": "57937588-bdd7-4677-a76b-d28849b11398",
   "metadata": {},
   "outputs": [],
   "source": [
    "# ICG algorithm\n",
    "\n",
    "#step 1: compute correlation between all neurons or neuron clusters(np.corrcoef)\n",
    "\n",
    "#step 2: greedily pair the neurons based on the correlation\n",
    "\n",
    "#step 3: sum correlations of each pair\n",
    "\n",
    "#step 4: repeat"
   ]
  },
  {
   "cell_type": "code",
   "execution_count": 11,
   "id": "614945dd-c43d-42a8-b56c-dd12da931c63",
   "metadata": {},
   "outputs": [],
   "source": [
    "#step 1: compute correlation between all neurons or neuron clusters(np.corrcoef)\n",
    "corr_matrix = np.corrcoef(regtrace) # each row of `x` represents a variable, each column a single observation of all those variables\n",
    "#corr_matrix = np.nan_to_num(corr_matrix, nan=-1)  # Replace NaNs with -1 to ignore them"
   ]
  },
  {
   "cell_type": "code",
   "execution_count": 12,
   "id": "ba489909-66f9-4990-8b34-37952b4a557e",
   "metadata": {},
   "outputs": [
    {
     "data": {
      "image/png": "[encoded data removed]",
      "text/plain": [
       "<Figure size 480x480 with 1 Axes>"
      ]
     },
     "metadata": {},
     "output_type": "display_data"
    }
   ],
   "source": [
    "plt.matshow(np.corrcoef(regtrace[:20,:]))\n",
    "plt.show()"
   ]
  },
  {
   "cell_type": "code",
   "execution_count": 13,
   "id": "5d9822f6-8c12-4278-8c69-db6ab0ad85af",
   "metadata": {},
   "outputs": [
    {
     "data": {
      "text/plain": [
       "8180"
      ]
     },
     "execution_count": 13,
     "metadata": {},
     "output_type": "execute_result"
    }
   ],
   "source": [
    "corr_matrix.shape[0]"
   ]
  },
  {
   "cell_type": "markdown",
   "id": "75895d57-95c6-4aea-9f10-cac427fc0aba",
   "metadata": {},
   "source": [
    "## step 2: greedily pair the neurons based on the correlation"
   ]
  },
  {
   "cell_type": "code",
   "execution_count": 14,
   "id": "f9a411a0-0b53-4ecd-b145-8115ddac1cc7",
   "metadata": {},
   "outputs": [],
   "source": [
    "# look for the hgihest correlation of neuron 1 with other neurons\n",
    "# pair them\n",
    "#n1_corrs = corr_matrix[0]  # Get the first row (Neuron 1)\n",
    "#n1_corrs[0] = -1  # Ignore self-correlation\n",
    "#n1_corrs[np.argmax(n1_corrs)] # corr value"
   ]
  },
  {
   "cell_type": "code",
   "execution_count": 15,
   "id": "4ce53d68-a47c-4547-a0f5-f6c9d01a7c78",
   "metadata": {},
   "outputs": [],
   "source": [
    "# look for the hgihest correlation of neuron 2 with other neurons\n",
    "# pair them\n",
    "#n2_corrs = corr_matrix[1]  # Get the first row (Neuron 1)\n",
    "#n2_corrs[1] = -1  # Ignore self-correlation\n",
    "#n2_corrs[np.argmax(n2_corrs)] # corr value"
   ]
  },
  {
   "cell_type": "code",
   "execution_count": 16,
   "id": "53a896f8-aa56-49c9-a445-26903e6a31c7",
   "metadata": {},
   "outputs": [],
   "source": [
    "#step 2: greedily pair the neurons based on the correlation\n",
    "pairs = {}\n",
    "used_neurons = set()\n",
    "for neuron in range(corr_matrix.shape[0]):\n",
    "\n",
    "    if neuron in used_neurons: # skip paired\n",
    "        continue\n",
    "\n",
    "    neuron_corrs = corr_matrix[neuron] #corr value of neuron\n",
    "    neuron_corrs[neuron] = -1 # (n1,n1)\n",
    "    \n",
    "    neuron_corrs[list(used_neurons)] = -1 # used set to -1\n",
    "\n",
    "    highest_corr_n = np.argmax(neuron_corrs)  #highest corr\n",
    "    # \n",
    "    \n",
    "    pairs[neuron] = {\n",
    "        \"pair\": highest_corr_n,\n",
    "        \"correlation\": corr_matrix[neuron, highest_corr_n]\n",
    "    }\n",
    "    used_neurons.add(neuron)\n",
    "    used_neurons.add(highest_corr_n)"
   ]
  },
  {
   "cell_type": "markdown",
   "id": "1467fc48-f23e-4c65-bd9d-8c3c4df89a24",
   "metadata": {},
   "source": [
    "## step 3: merge paired neurons (sum activity)"
   ]
  },
  {
   "cell_type": "code",
   "execution_count": 17,
   "id": "3d319745-bc76-4137-abd6-47881a7582f8",
   "metadata": {},
   "outputs": [
    {
     "data": {
      "text/plain": [
       "(8180, 4914)"
      ]
     },
     "execution_count": 17,
     "metadata": {},
     "output_type": "execute_result"
    }
   ],
   "source": [
    "regtrace.shape"
   ]
  },
  {
   "cell_type": "code",
   "execution_count": 18,
   "id": "5ebaf86a-f508-458e-a208-30fcad894faf",
   "metadata": {},
   "outputs": [],
   "source": [
    "#step 3: merge paired neurons by summing activity\n",
    "groups = []\n",
    "for n1, corr in pairs.items():\n",
    "    n2 = corr[\"pair\"]\n",
    "    summed_activity = regtrace[n1] + regtrace[n2]\n",
    "    groups.append(summed_activity)"
   ]
  },
  {
   "cell_type": "code",
   "execution_count": 19,
   "id": "14ce576a-1b5c-4063-b173-8b200c7862cd",
   "metadata": {},
   "outputs": [
    {
     "data": {
      "text/plain": [
       "8180"
      ]
     },
     "execution_count": 19,
     "metadata": {},
     "output_type": "execute_result"
    }
   ],
   "source": [
    "regtrace.shape[0] # before"
   ]
  },
  {
   "cell_type": "code",
   "execution_count": 20,
   "id": "be0626cd-252f-49d1-8fc8-656cf93303d3",
   "metadata": {},
   "outputs": [
    {
     "data": {
      "text/plain": [
       "4090"
      ]
     },
     "execution_count": 20,
     "metadata": {},
     "output_type": "execute_result"
    }
   ],
   "source": [
    "groups = np.array(groups)\n",
    "groups.shape[0] # after"
   ]
  },
  {
   "cell_type": "markdown",
   "id": "f6fd3991-f396-40d3-8f3b-de4ac4dde1a0",
   "metadata": {},
   "source": [
    "## step 4: iterate"
   ]
  },
  {
   "cell_type": "code",
   "execution_count": 7,
   "id": "34ef2b26-773e-4f3c-b216-929aca454805",
   "metadata": {},
   "outputs": [
    {
     "data": {
      "text/plain": [
       "array([[ 2.40508199,  4.4212575 , 15.82823086, ...,  5.69396591,\n",
       "         4.52273703,  0.        ],\n",
       "       [ 1.7090261 ,  1.11716795,  0.14727081, ...,  6.13473034,\n",
       "         0.67381257,  1.14160955],\n",
       "       [ 6.71820164,  8.25979233,  0.65541083, ...,  2.89435792,\n",
       "         1.8674984 ,  2.48839355],\n",
       "       ...,\n",
       "       [ 0.12154441,  0.10821331,  0.25683999, ...,  0.28416896,\n",
       "         0.1135048 ,  0.22655256],\n",
       "       [ 0.39308801,  0.04232984,  2.02588463, ...,  0.39179745,\n",
       "         0.50238031,  0.40740642],\n",
       "       [ 0.1447245 ,  0.27280253,  3.21057653, ...,  0.47937089,\n",
       "         0.21570553,  1.11822975]])"
      ]
     },
     "execution_count": 7,
     "metadata": {},
     "output_type": "execute_result"
    }
   ],
   "source": [
    "regtrace"
   ]
  },
  {
   "cell_type": "code",
   "execution_count": 21,
   "id": "bf731511-2b56-4be4-9a21-8097f14e1091",
   "metadata": {},
   "outputs": [
    {
     "data": {
      "text/plain": [
       "(2045, 4914)"
      ]
     },
     "execution_count": 21,
     "metadata": {},
     "output_type": "execute_result"
    }
   ],
   "source": [
    "regtrace.shape"
   ]
  },
  {
   "cell_type": "code",
   "execution_count": 46,
   "id": "72f49d2f-5e2f-4725-a82f-11f19db6346e",
   "metadata": {},
   "outputs": [
    {
     "name": "stdout",
     "output_type": "stream",
     "text": [
      "2044\n"
     ]
    }
   ],
   "source": [
    "#step 1: compute correlation between all neurons or neuron clusters(np.corrcoef)\n",
    "corr_matrix = np.corrcoef(regtrace) # each row of `x` represents a variable, each column a single observation of all those variables\n",
    "\n",
    "#step 2: greedily pair the neurons based on the correlation\n",
    "pairs = {}\n",
    "used_neurons = set()\n",
    "#Loop across all neurons \n",
    "#========================\n",
    "for neuron in range(corr_matrix.shape[0]):\n",
    "    if neuron in used_neurons: # skip paired\n",
    "        continue\n",
    "    neuron_corrs = corr_matrix[neuron] #corr value of neuron\n",
    "    neuron_corrs[neuron] = -1 # (n1,n1)\n",
    "    neuron_corrs[list(used_neurons)] = -1 # used set to -1\n",
    "    highest_corr_n = np.argmax(neuron_corrs)  #highest corr\n",
    "\n",
    "    #CHANGE THIS LATER -> IF ALL RUNS SLOW; CHANGE THIS!\n",
    "    if len(np.unique(neuron_corrs)) == 1:\n",
    "        \n",
    "    \n",
    "    pairs[neuron] = {\n",
    "        \"pair\": highest_corr_n,\n",
    "        \"correlation\": corr_matrix[neuron, highest_corr_n]\n",
    "    }\n",
    "    used_neurons.add(neuron)\n"
   ]
  },
  {
   "cell_type": "code",
   "execution_count": null,
   "id": "48ca43fb-810f-4165-8cc9-2fe73da088e8",
   "metadata": {},
   "outputs": [],
   "source": []
  },
  {
   "cell_type": "code",
   "execution_count": 48,
   "id": "294f1923-9689-4009-a5f4-ac5c212a6524",
   "metadata": {},
   "outputs": [
    {
     "data": {
      "text/plain": [
       "array([-1.])"
      ]
     },
     "execution_count": 48,
     "metadata": {},
     "output_type": "execute_result"
    }
   ],
   "source": [
    "np.unique(neuron_corrs)"
   ]
  },
  {
   "cell_type": "code",
   "execution_count": 44,
   "id": "3b4cf54d-15a0-41c3-95e1-67869e015765",
   "metadata": {},
   "outputs": [
    {
     "data": {
      "text/plain": [
       "True"
      ]
     },
     "execution_count": 44,
     "metadata": {},
     "output_type": "execute_result"
    }
   ],
   "source": [
    "len(np.unique(neuron_corrs)) == 1"
   ]
  },
  {
   "cell_type": "code",
   "execution_count": 39,
   "id": "3a05af0b-1d5c-4dbf-a142-41ebd077ff4f",
   "metadata": {},
   "outputs": [
    {
     "data": {
      "text/plain": [
       "1"
      ]
     },
     "execution_count": 39,
     "metadata": {},
     "output_type": "execute_result"
    }
   ],
   "source": [
    "-1*(neuron-1)"
   ]
  },
  {
   "cell_type": "code",
   "execution_count": 32,
   "id": "d0489a22-5a57-4cb0-b74c-6dc2f44fe6db",
   "metadata": {},
   "outputs": [
    {
     "data": {
      "text/plain": [
       "dict_items([(0, {'pair': 117, 'correlation': 0.7096809070808524}), (1, {'pair': 24, 'correlation': 0.7914158301893126}), (2, {'pair': 13, 'correlation': 0.5874204854516863}), (3, {'pair': 51, 'correlation': 0.7925169503883487}), (4, {'pair': 76, 'correlation': 0.5907968636440405}), (5, {'pair': 19, 'correlation': 0.6547695422999291}), (6, {'pair': 140, 'correlation': 0.4305780652395601}), (7, {'pair': 97, 'correlation': 0.8043966840916965}), (8, {'pair': 69, 'correlation': 0.7010315796062027}), (9, {'pair': 844, 'correlation': 0.2046313353456381}), (10, {'pair': 71, 'correlation': 0.647054563259914}), (11, {'pair': 26, 'correlation': 0.5836501369169278}), (12, {'pair': 172, 'correlation': 0.7961503577850886}), (13, {'pair': 58, 'correlation': 0.5812922401299879}), (14, {'pair': 16, 'correlation': 0.6568344128943382}), (15, {'pair': 116, 'correlation': 0.6139035456887926}), (16, {'pair': 136, 'correlation': 0.7099918609018687}), (17, {'pair': 313, 'correlation': 0.6094792921429404}), (18, {'pair': 71, 'correlation': 0.6917910300723886}), (19, {'pair': 477, 'correlation': 0.6450049355417127}), (20, {'pair': 484, 'correlation': 0.6239558531594056}), (21, {'pair': 164, 'correlation': 0.8129671880559335}), (22, {'pair': 188, 'correlation': 0.7303765590691632}), (23, {'pair': 110, 'correlation': 0.7834670820651533}), (24, {'pair': 151, 'correlation': 0.712111984221228}), (25, {'pair': 236, 'correlation': 0.6652994912678122}), (26, {'pair': 162, 'correlation': 0.7470466623735273}), (27, {'pair': 45, 'correlation': 0.8032268738415012}), (28, {'pair': 153, 'correlation': 0.6358488007970414}), (29, {'pair': 31, 'correlation': 0.7364997192219139}), (30, {'pair': 445, 'correlation': 0.4462330176294846}), (31, {'pair': 104, 'correlation': 0.551185305094314}), (32, {'pair': 101, 'correlation': 0.4128902832480779}), (33, {'pair': 193, 'correlation': 0.5904952456178683}), (34, {'pair': 305, 'correlation': 0.5715584330388715}), (35, {'pair': 69, 'correlation': 0.7102735729760222}), (36, {'pair': 68, 'correlation': 0.6573320613828398}), (37, {'pair': 44, 'correlation': 0.6683734546833326}), (38, {'pair': 44, 'correlation': 0.681602650664356}), (39, {'pair': 214, 'correlation': 0.39813268773115745}), (40, {'pair': 76, 'correlation': 0.6140346866408054}), (41, {'pair': 670, 'correlation': 0.4354101368270826}), (42, {'pair': 217, 'correlation': 0.2659943824775391}), (43, {'pair': 1424, 'correlation': 0.38964459467706697}), (44, {'pair': 97, 'correlation': 0.6867780925567741}), (45, {'pair': 157, 'correlation': 0.8256584402939372}), (46, {'pair': 205, 'correlation': 0.6178527278170328}), (47, {'pair': 75, 'correlation': 0.7921933890073742}), (48, {'pair': 74, 'correlation': 0.6518511213431647}), (49, {'pair': 55, 'correlation': 0.4192157694107313}), (50, {'pair': 78, 'correlation': 0.6953633960295572}), (51, {'pair': 65, 'correlation': 0.6743871898018245}), (52, {'pair': 150, 'correlation': 0.6290831165896529}), (53, {'pair': 75, 'correlation': 0.8137217943718166}), (54, {'pair': 65, 'correlation': 0.5953415267909078}), (55, {'pair': 72, 'correlation': 0.5941376719964533}), (56, {'pair': 70, 'correlation': 0.5917041340469547}), (57, {'pair': 333, 'correlation': 0.5669648310287333}), (58, {'pair': 101, 'correlation': 0.5373229055852454}), (59, {'pair': 302, 'correlation': 0.6788627743405629}), (60, {'pair': 94, 'correlation': 0.7331768451376051}), (61, {'pair': 190, 'correlation': 0.43491025013711876}), (62, {'pair': 239, 'correlation': 0.5484569976520851}), (63, {'pair': 145, 'correlation': 0.4948091968657117}), (64, {'pair': 108, 'correlation': 0.5081912446072546}), (65, {'pair': 68, 'correlation': 0.5886688437425642}), (66, {'pair': 209, 'correlation': 0.45514684231339014}), (67, {'pair': 89, 'correlation': 0.7932744488865654}), (68, {'pair': 103, 'correlation': 0.5721305737397373}), (69, {'pair': 75, 'correlation': 0.8119562183743133}), (70, {'pair': 240, 'correlation': 0.7526987949610788}), (71, {'pair': 305, 'correlation': 0.6697290018093583}), (72, {'pair': 256, 'correlation': 0.5853958101750217}), (73, {'pair': 401, 'correlation': 0.6166153090622538}), (74, {'pair': 196, 'correlation': 0.784235615862193}), (75, {'pair': 113, 'correlation': 0.8038701376433144}), (76, {'pair': 223, 'correlation': 0.6145065163494055}), (77, {'pair': 78, 'correlation': 0.6128206304716485}), (78, {'pair': 82, 'correlation': 0.7541942910082832}), (79, {'pair': 177, 'correlation': 0.7165817614122213}), (80, {'pair': 172, 'correlation': 0.728183366326458}), (81, {'pair': 177, 'correlation': 0.7043745447008143}), (82, {'pair': 121, 'correlation': 0.7273095063886432}), (83, {'pair': 232, 'correlation': 0.4808342834637942}), (84, {'pair': 138, 'correlation': 0.7036411609803911}), (85, {'pair': 258, 'correlation': 0.6774714887529719}), (86, {'pair': 720, 'correlation': 0.2882191667515586}), (87, {'pair': 116, 'correlation': 0.5679681639114822}), (88, {'pair': 1799, 'correlation': 0.24252721007824626}), (89, {'pair': 165, 'correlation': 0.7283162484295921}), (90, {'pair': 299, 'correlation': 0.396712812950425}), (91, {'pair': 139, 'correlation': 0.7179340975373052}), (92, {'pair': 365, 'correlation': 0.4219153939911972}), (93, {'pair': 462, 'correlation': 0.6703718465268474}), (94, {'pair': 510, 'correlation': 0.7085900851618488}), (95, {'pair': 173, 'correlation': 0.7643949846892891}), (96, {'pair': 112, 'correlation': 0.7253945422576064}), (97, {'pair': 252, 'correlation': 0.6958077813750675}), (98, {'pair': 299, 'correlation': 0.4673460699947008}), (99, {'pair': 214, 'correlation': 0.6567326857199658}), (100, {'pair': 139, 'correlation': 0.4479050030492594}), (101, {'pair': 236, 'correlation': 0.5382562768551439}), (102, {'pair': 113, 'correlation': 0.6887872979357376}), (103, {'pair': 249, 'correlation': 0.4922495625147131}), (104, {'pair': 221, 'correlation': 0.5564862581777256}), (105, {'pair': 260, 'correlation': 0.6923388555398721}), (106, {'pair': 362, 'correlation': 0.3657816421356165}), (107, {'pair': 576, 'correlation': 0.561101523607811}), (108, {'pair': 226, 'correlation': 0.5106785917225289}), (109, {'pair': 116, 'correlation': 0.5435547010740978}), (110, {'pair': 167, 'correlation': 0.74322385184093}), (111, {'pair': 157, 'correlation': 0.7296565703994795}), (112, {'pair': 137, 'correlation': 0.6917870223751573}), (113, {'pair': 177, 'correlation': 0.740945884858725}), (114, {'pair': 219, 'correlation': 0.7139811762937234}), (115, {'pair': 116, 'correlation': 0.5648650325574504}), (116, {'pair': 201, 'correlation': 0.5819134539495647}), (117, {'pair': 357, 'correlation': 0.559576303253435}), (118, {'pair': 157, 'correlation': 0.7599643295229032}), (119, {'pair': 157, 'correlation': 0.4314677726648819}), (120, {'pair': 184, 'correlation': 0.49023830782594185}), (121, {'pair': 188, 'correlation': 0.7416109641411895}), (122, {'pair': 281, 'correlation': 0.6512531587179553}), (123, {'pair': 283, 'correlation': 0.4102597668921021}), (124, {'pair': 279, 'correlation': 0.5858715821810263}), (125, {'pair': 246, 'correlation': 0.6259463119341522}), (126, {'pair': 274, 'correlation': 0.7058296611720775}), (127, {'pair': 157, 'correlation': 0.6654164131919273}), (128, {'pair': 175, 'correlation': 0.6519035616841868}), (129, {'pair': 175, 'correlation': 0.6111852358115655}), (130, {'pair': 195, 'correlation': 0.5634395018007567}), (131, {'pair': 222, 'correlation': 0.6376896016655057}), (132, {'pair': 260, 'correlation': 0.5183662140911609}), (133, {'pair': 276, 'correlation': 0.48799854623467254}), (134, {'pair': 253, 'correlation': 0.4959498494903577}), (135, {'pair': 404, 'correlation': 0.5400271477532784}), (136, {'pair': 513, 'correlation': 0.5718107679228288}), (137, {'pair': 177, 'correlation': 0.656077848387297}), (138, {'pair': 173, 'correlation': 0.7142902899233321}), (139, {'pair': 157, 'correlation': 0.7591869746294632}), (140, {'pair': 994, 'correlation': 0.5543793092728184}), (141, {'pair': 178, 'correlation': 0.45978649572063596}), (142, {'pair': 167, 'correlation': 0.7203702552055039}), (143, {'pair': 256, 'correlation': 0.5685556706443806}), (144, {'pair': 297, 'correlation': 0.44067059547005505}), (145, {'pair': 292, 'correlation': 0.5360752872930089}), (146, {'pair': 352, 'correlation': 0.39624895730684795}), (147, {'pair': 249, 'correlation': 0.5230957013619701}), (148, {'pair': 188, 'correlation': 0.5941940828485063}), (149, {'pair': 548, 'correlation': 0.4585484224138056}), (150, {'pair': 614, 'correlation': 0.5117698623988849}), (151, {'pair': 295, 'correlation': 0.6108123482480632}), (152, {'pair': 385, 'correlation': 0.5659513072263591}), (153, {'pair': 864, 'correlation': 0.41609920344020457}), (154, {'pair': 167, 'correlation': 0.681164732577561}), (155, {'pair': 198, 'correlation': 0.6335839543440055}), (156, {'pair': 1449, 'correlation': 0.2957399703459061}), (157, {'pair': 196, 'correlation': 0.7996748107903274}), (158, {'pair': 401, 'correlation': 0.4719277844096139}), (159, {'pair': 247, 'correlation': 0.6498554167686991}), (160, {'pair': 260, 'correlation': 0.42628528468958704}), (161, {'pair': 250, 'correlation': 0.46067943468058825}), (162, {'pair': 214, 'correlation': 0.6527080827166428}), (163, {'pair': 198, 'correlation': 0.5526660126043325}), (164, {'pair': 279, 'correlation': 0.6944848056754614}), (165, {'pair': 240, 'correlation': 0.663898517212572}), (166, {'pair': 189, 'correlation': 0.28110050044906676}), (167, {'pair': 177, 'correlation': 0.7241816910116154}), (168, {'pair': 632, 'correlation': 0.46960297153390157}), (169, {'pair': 208, 'correlation': 0.46663359629826034}), (170, {'pair': 404, 'correlation': 0.3282457120315121}), (171, {'pair': 487, 'correlation': 0.25312316634854937}), (172, {'pair': 287, 'correlation': 0.7569082491544237}), (173, {'pair': 196, 'correlation': 0.7712052882202562}), (174, {'pair': 404, 'correlation': 0.34683330623529796}), (175, {'pair': 251, 'correlation': 0.6593599118425688}), (176, {'pair': 503, 'correlation': 0.5566499030896074}), (177, {'pair': 246, 'correlation': 0.7052034678150337}), (178, {'pair': 262, 'correlation': 0.5786798804416406}), (179, {'pair': 450, 'correlation': 0.5110197464686174}), (180, {'pair': 893, 'correlation': 0.3084564941193343}), (181, {'pair': 551, 'correlation': 0.475546460980399}), (182, {'pair': 278, 'correlation': 0.33673176170433683}), (183, {'pair': 232, 'correlation': 0.4678807673704069}), (184, {'pair': 246, 'correlation': 0.6864215487033952}), (185, {'pair': 215, 'correlation': 0.477336369349736}), (186, {'pair': 491, 'correlation': 0.5110105759419025}), (187, {'pair': 245, 'correlation': 0.43567633145924856}), (188, {'pair': 196, 'correlation': 0.7611773726966214}), (189, {'pair': 627, 'correlation': 0.5325126002194815}), (190, {'pair': 633, 'correlation': 0.5077016097980194}), (191, {'pair': 222, 'correlation': 0.5638250228119647}), (192, {'pair': 247, 'correlation': 0.7609747747167677}), (193, {'pair': 637, 'correlation': 0.5027757901341484}), (194, {'pair': 233, 'correlation': 0.4911438130670957}), (195, {'pair': 295, 'correlation': 0.5046810964645618}), (196, {'pair': 267, 'correlation': 0.7640401397810035}), (197, {'pair': 583, 'correlation': 0.43787823216054883}), (198, {'pair': 282, 'correlation': 0.6332850318694303}), (199, {'pair': 256, 'correlation': 0.5600395070874695}), (200, {'pair': 305, 'correlation': 0.5868987431803679}), (201, {'pair': 284, 'correlation': 0.511209009065801}), (202, {'pair': 208, 'correlation': 0.5513126069562798}), (203, {'pair': 350, 'correlation': 0.7121575750895647}), (204, {'pair': 386, 'correlation': 0.14749870560501313}), (205, {'pair': 238, 'correlation': 0.4944905153930597}), (206, {'pair': 279, 'correlation': 0.6165278399622297}), (207, {'pair': 214, 'correlation': 0.6097582096316508}), (208, {'pair': 607, 'correlation': 0.5241123989989738}), (209, {'pair': 598, 'correlation': 0.43593493844427467}), (210, {'pair': 479, 'correlation': 0.19300585066608053}), (211, {'pair': 359, 'correlation': 0.4477914936730552}), (212, {'pair': 270, 'correlation': 0.5775810207653618}), (213, {'pair': 235, 'correlation': 0.5283795163144294}), (214, {'pair': 222, 'correlation': 0.6390629132541951}), (215, {'pair': 309, 'correlation': 0.4884764557872069}), (216, {'pair': 232, 'correlation': 0.4348129202709614}), (217, {'pair': 249, 'correlation': 0.48957026107564244}), (218, {'pair': 486, 'correlation': 0.42997681018831907}), (219, {'pair': 364, 'correlation': 0.7219238555507472}), (220, {'pair': 222, 'correlation': 0.7030051864129861}), (221, {'pair': 252, 'correlation': 0.6371504112800596}), (222, {'pair': 316, 'correlation': 0.6791848282099251}), (223, {'pair': 284, 'correlation': 0.4737150047633571}), (224, {'pair': 260, 'correlation': 0.6454582730481361}), (225, {'pair': 258, 'correlation': 0.631066744955722}), (226, {'pair': 842, 'correlation': 0.46336613449104536}), (227, {'pair': 496, 'correlation': 0.4988947545758343}), (228, {'pair': 607, 'correlation': 0.5333977067103781}), (229, {'pair': 249, 'correlation': 0.46670576074463443}), (230, {'pair': 251, 'correlation': 0.528711860160157}), (231, {'pair': 543, 'correlation': 0.5569562381235151}), (232, {'pair': 536, 'correlation': 0.4894722450481176}), (233, {'pair': 251, 'correlation': 0.6188331126215513}), (234, {'pair': 384, 'correlation': 0.6610300935867969}), (235, {'pair': 252, 'correlation': 0.6033981180219302}), (236, {'pair': 238, 'correlation': 0.4864351438047598}), (237, {'pair': 272, 'correlation': 0.6311176222507031}), (238, {'pair': 406, 'correlation': 0.4445134359148248}), (239, {'pair': 452, 'correlation': 0.6435570836113552}), (240, {'pair': 279, 'correlation': 0.6859744653085795}), (241, {'pair': 260, 'correlation': 0.6607421643673097}), (242, {'pair': 382, 'correlation': 0.6167604420987538}), (243, {'pair': 258, 'correlation': 0.583596493013111}), (244, {'pair': 344, 'correlation': 0.4254158473156235}), (245, {'pair': 459, 'correlation': 0.5287788576441419}), (246, {'pair': 268, 'correlation': 0.6617359263897828}), (247, {'pair': 364, 'correlation': 0.7191652376090755}), (248, {'pair': 366, 'correlation': 0.4492269122011928}), (249, {'pair': 369, 'correlation': 0.510546772680274}), (250, {'pair': 331, 'correlation': 0.49966004873636277}), (251, {'pair': 282, 'correlation': 0.638509502736648}), (252, {'pair': 398, 'correlation': 0.6379989630428144}), (253, {'pair': 544, 'correlation': 0.5324801313443257}), (254, {'pair': 504, 'correlation': 0.4688421528436117}), (255, {'pair': 292, 'correlation': 0.46795266737861935}), (256, {'pair': 260, 'correlation': 0.633535597557214}), (257, {'pair': 574, 'correlation': 0.38554608575273636}), (258, {'pair': 268, 'correlation': 0.6849749005707421}), (259, {'pair': 561, 'correlation': 0.4238164978960365}), (260, {'pair': 267, 'correlation': 0.7210492800448738}), (261, {'pair': 272, 'correlation': 0.5005253724929021}), (262, {'pair': 301, 'correlation': 0.5886086926961728}), (263, {'pair': 838, 'correlation': 0.4233327518846836}), (264, {'pair': 401, 'correlation': 0.4072894544884155}), (265, {'pair': 279, 'correlation': 0.6323834920693324}), (266, {'pair': 459, 'correlation': 0.46486374328030505}), (267, {'pair': 384, 'correlation': 0.7027667245851962}), (268, {'pair': 395, 'correlation': 0.6366045622312632}), (269, {'pair': 330, 'correlation': 0.43335816107990194}), (270, {'pair': 363, 'correlation': 0.6968114788757761}), (271, {'pair': 510, 'correlation': 0.36268977972919114}), (272, {'pair': 385, 'correlation': 0.5616438658759955}), (273, {'pair': 419, 'correlation': 0.6226332920214148}), (274, {'pair': 363, 'correlation': 0.6724354428563422}), (275, {'pair': 298, 'correlation': 0.5099903946122284}), (276, {'pair': 571, 'correlation': 0.6132279758750341}), (277, {'pair': 435, 'correlation': 0.4475187180409224}), (278, {'pair': 305, 'correlation': 0.589138418123803}), (279, {'pair': 353, 'correlation': 0.6612873146682158}), (280, {'pair': 861, 'correlation': 0.2976931629281444}), (281, {'pair': 502, 'correlation': 0.586372334262818}), (282, {'pair': 298, 'correlation': 0.6109508571123714}), (283, {'pair': 837, 'correlation': 0.29219750798438626}), (284, {'pair': 662, 'correlation': 0.46608260572218124}), (285, {'pair': 382, 'correlation': 0.6102219805544409}), (286, {'pair': 924, 'correlation': 0.4105488104264838}), (287, {'pair': 325, 'correlation': 0.7028845627803251}), (288, {'pair': 344, 'correlation': 0.4859901994614159}), (289, {'pair': 324, 'correlation': 0.6809644382428633}), (290, {'pair': 369, 'correlation': 0.36571585000110923}), (291, {'pair': 393, 'correlation': 0.6157755171301131}), (292, {'pair': 404, 'correlation': 0.49656798000363467}), (293, {'pair': 477, 'correlation': 0.3938555264134497}), (294, {'pair': 417, 'correlation': 0.46339816410860263}), (295, {'pair': 364, 'correlation': 0.649080376245256}), (296, {'pair': 387, 'correlation': 0.4015970188169838}), (297, {'pair': 549, 'correlation': 0.5263615066420928}), (298, {'pair': 386, 'correlation': 0.609672837159925}), (299, {'pair': 581, 'correlation': 0.47323845911569384}), (300, {'pair': 452, 'correlation': 0.5225311734226891}), (301, {'pair': 415, 'correlation': 0.6219139274823868}), (302, {'pair': 350, 'correlation': 0.5304362001684512}), (303, {'pair': 363, 'correlation': 0.5963827901658527}), (304, {'pair': 994, 'correlation': 0.24614763715325927}), (305, {'pair': 812, 'correlation': 0.5787885163955184}), (306, {'pair': 315, 'correlation': 0.3520063312314817}), (307, {'pair': 342, 'correlation': 0.5545324699961361}), (308, {'pair': 485, 'correlation': 0.3919188014553333}), (309, {'pair': 374, 'correlation': 0.42479234652688824}), (310, {'pair': 397, 'correlation': 0.5984544048321352}), (311, {'pair': 344, 'correlation': 0.4086964011106645}), (312, {'pair': 580, 'correlation': 0.5062937125730012}), (313, {'pair': 472, 'correlation': 0.40732047337118643}), (314, {'pair': 513, 'correlation': 0.5187411394806979}), (315, {'pair': 469, 'correlation': 0.5552665184076764}), (316, {'pair': 405, 'correlation': 0.6333734735834602}), (317, {'pair': 571, 'correlation': 0.5335597362539489}), (318, {'pair': 465, 'correlation': 0.4877779353920166}), (319, {'pair': 438, 'correlation': 0.582082669342339}), (320, {'pair': 509, 'correlation': 0.6015687040642983}), (321, {'pair': 331, 'correlation': 0.350260805147974}), (322, {'pair': 495, 'correlation': 0.5247126619211208}), (323, {'pair': 1424, 'correlation': 0.3054487872304055}), (324, {'pair': 495, 'correlation': 0.6669703337864125}), (325, {'pair': 350, 'correlation': 0.6588314207837099}), (326, {'pair': 404, 'correlation': 0.4290314687343925}), (327, {'pair': 432, 'correlation': 0.44796374723441756}), (328, {'pair': 405, 'correlation': 0.6086124337777858}), (329, {'pair': 346, 'correlation': 0.53753593911891}), (330, {'pair': 344, 'correlation': 0.4228093195461514}), (331, {'pair': 402, 'correlation': 0.5737291763769274}), (332, {'pair': 384, 'correlation': 0.6403217166956034}), (333, {'pair': 465, 'correlation': 0.5075016963814611}), (334, {'pair': 502, 'correlation': 0.5415676290086137}), (335, {'pair': 450, 'correlation': 0.38657557616030025}), (336, {'pair': 653, 'correlation': 0.29873418069190033}), (337, {'pair': 522, 'correlation': 0.5624025071453975}), (338, {'pair': 385, 'correlation': 0.4980303650407388}), (339, {'pair': 503, 'correlation': 0.501059873751827}), (340, {'pair': 398, 'correlation': 0.5893054298002562}), (341, {'pair': 543, 'correlation': 0.4899641320145354}), (342, {'pair': 582, 'correlation': 0.5115404154574422}), (343, {'pair': 417, 'correlation': 0.5081920620075902}), (344, {'pair': 536, 'correlation': 0.4651586537820466}), (345, {'pair': 370, 'correlation': 0.27855830515799124}), (346, {'pair': 393, 'correlation': 0.5904692435210105}), (347, {'pair': 759, 'correlation': 0.4191337669238764}), (348, {'pair': 385, 'correlation': 0.5724299091107139}), (349, {'pair': 739, 'correlation': 0.4924864300540159}), (350, {'pair': 716, 'correlation': 0.6417164902791151}), (351, {'pair': 570, 'correlation': 0.53739112200174}), (352, {'pair': 667, 'correlation': 0.2367009579934409}), (353, {'pair': 584, 'correlation': 0.5778992046385896}), (354, {'pair': 364, 'correlation': 0.6372964063699246}), (355, {'pair': 786, 'correlation': 0.438333370897024}), (356, {'pair': 421, 'correlation': 0.4897466725063643}), (357, {'pair': 815, 'correlation': 0.4879317252931526}), (358, {'pair': 564, 'correlation': 0.4375950630102278}), (359, {'pair': 502, 'correlation': 0.4779367971172737}), (360, {'pair': 428, 'correlation': 0.4449731035664504}), (361, {'pair': 450, 'correlation': 0.49124896496812764}), (362, {'pair': 406, 'correlation': 0.4095154808540113}), (363, {'pair': 546, 'correlation': 0.6211668554726517}), (364, {'pair': 384, 'correlation': 0.6894373366536602}), (365, {'pair': 738, 'correlation': 0.42429931328303927}), (366, {'pair': 442, 'correlation': 0.42164263978550687}), (367, {'pair': 428, 'correlation': 0.38122382712632186}), (368, {'pair': 576, 'correlation': 0.4896876388855126}), (369, {'pair': 625, 'correlation': 0.40955120251101007}), (370, {'pair': 536, 'correlation': 0.37790387148322363}), (371, {'pair': 376, 'correlation': 0.5963857070473808}), (372, {'pair': 382, 'correlation': 0.6643379083706713}), (373, {'pair': 393, 'correlation': 0.6166444620791394}), (374, {'pair': 990, 'correlation': 0.34921610624062904}), (375, {'pair': 393, 'correlation': 0.6037309610071673}), (376, {'pair': 716, 'correlation': 0.5455845133758377}), (377, {'pair': 405, 'correlation': 0.4824008057331697}), (378, {'pair': 583, 'correlation': 0.3322973287871025}), (379, {'pair': 855, 'correlation': 0.36373163854752866}), (380, {'pair': 874, 'correlation': 0.3490060277955664}), (381, {'pair': 384, 'correlation': 0.6322684493395204}), (382, {'pair': 481, 'correlation': 0.6554528275354391}), (383, {'pair': 508, 'correlation': 0.5865263808762371}), (384, {'pair': 403, 'correlation': 0.6646160402300592}), (385, {'pair': 502, 'correlation': 0.5460196277097921}), (386, {'pair': 405, 'correlation': 0.5907674751586239}), (387, {'pair': 393, 'correlation': 0.6186434859916262}), (388, {'pair': 415, 'correlation': 0.6128637107415765}), (389, {'pair': 438, 'correlation': 0.5119236265543855}), (390, {'pair': 423, 'correlation': 0.5553579372203311}), (391, {'pair': 536, 'correlation': 0.3615327891956919}), (392, {'pair': 571, 'correlation': 0.6358464157062513}), (393, {'pair': 438, 'correlation': 0.5938287311535638}), (394, {'pair': 607, 'correlation': 0.470525588694126}), (395, {'pair': 438, 'correlation': 0.5657510101903741}), (396, {'pair': 423, 'correlation': 0.531805417673476}), (397, {'pair': 438, 'correlation': 0.5805739017779503}), (398, {'pair': 552, 'correlation': 0.5874350760948809}), (399, {'pair': 438, 'correlation': 0.49627770065708077}), (400, {'pair': 844, 'correlation': 0.45797977592946393}), (401, {'pair': 607, 'correlation': 0.4927703604081757}), (402, {'pair': 438, 'correlation': 0.5755647100977479}), (403, {'pair': 413, 'correlation': 0.6132033193167261}), (404, {'pair': 477, 'correlation': 0.42900622764625956}), (405, {'pair': 438, 'correlation': 0.5843634499531327}), (406, {'pair': 585, 'correlation': 0.3746673112250238}), (407, {'pair': 652, 'correlation': 0.396218319237365}), (408, {'pair': 564, 'correlation': 0.20519359496368259}), (409, {'pair': 563, 'correlation': 0.46194326504898076}), (410, {'pair': 481, 'correlation': 0.6059680356458386}), (411, {'pair': 522, 'correlation': 0.3892813745601342}), (412, {'pair': 581, 'correlation': 0.4199169470134502}), (413, {'pair': 415, 'correlation': 0.6233393749509518}), (414, {'pair': 588, 'correlation': 0.5187210206755878}), (415, {'pair': 443, 'correlation': 0.6214439963690614}), (416, {'pair': 481, 'correlation': 0.5535569129271741}), (417, {'pair': 485, 'correlation': 0.4904743125957955}), (418, {'pair': 639, 'correlation': 0.5082362244315987}), (419, {'pair': 620, 'correlation': 0.5733964221909048}), (420, {'pair': 892, 'correlation': 0.45408722777527216}), (421, {'pair': 455, 'correlation': 0.5683345920152718}), (422, {'pair': 812, 'correlation': 0.4045099898477769}), (423, {'pair': 452, 'correlation': 0.5560796839934025}), (424, {'pair': 496, 'correlation': 0.41292251605780816}), (425, {'pair': 494, 'correlation': 0.3018877720645701}), (426, {'pair': 552, 'correlation': 0.5022702428174075}), (427, {'pair': 438, 'correlation': 0.5284409727087362}), (428, {'pair': 607, 'correlation': 0.46750236145485985}), (429, {'pair': 533, 'correlation': 0.5058561621455501}), (430, {'pair': 571, 'correlation': 0.601384957356897}), (431, {'pair': 580, 'correlation': 0.5489808975161683}), (432, {'pair': 619, 'correlation': 0.5448207263998549}), (433, {'pair': 517, 'correlation': 0.4312615613194052}), (434, {'pair': 548, 'correlation': 0.347826529769768}), (435, {'pair': 1025, 'correlation': 0.4255588681395935}), (436, {'pair': 808, 'correlation': 0.3344730057958106}), (437, {'pair': 455, 'correlation': 0.5407956877262642}), (438, {'pair': 706, 'correlation': 0.5777488874711262}), (439, {'pair': 561, 'correlation': 0.3568892926915612}), (440, {'pair': 741, 'correlation': 0.4787004376505771}), (441, {'pair': 674, 'correlation': 0.4957159410001322}), (442, {'pair': 649, 'correlation': 0.4377725109464246}), (443, {'pair': 495, 'correlation': 0.5779893157090434}), (444, {'pair': 570, 'correlation': 0.5429729636357828}), (445, {'pair': 652, 'correlation': 0.354802624363776}), (446, {'pair': 502, 'correlation': 0.49130291427960454}), (447, {'pair': 502, 'correlation': 0.4489609690716746}), (448, {'pair': 462, 'correlation': 0.5460389919479213}), (449, {'pair': 724, 'correlation': 0.48129939680109807}), (450, {'pair': 465, 'correlation': 0.46854759177231975}), (451, {'pair': 511, 'correlation': 0.4734087366891198}), (452, {'pair': 713, 'correlation': 0.5595114422181494}), (453, {'pair': 571, 'correlation': 0.567628071136113}), (454, {'pair': 674, 'correlation': 0.5130892281693498}), (455, {'pair': 681, 'correlation': 0.5815835789825389}), (456, {'pair': 812, 'correlation': 0.5188556937632489}), (457, {'pair': 513, 'correlation': 0.41635699926831127}), (458, {'pair': 582, 'correlation': 0.4770982365891692}), (459, {'pair': 488, 'correlation': 0.46100498937184203}), (460, {'pair': 848, 'correlation': 0.400133317772886}), (461, {'pair': 674, 'correlation': 0.4980959321594841}), (462, {'pair': 498, 'correlation': 0.6212397921703162}), (463, {'pair': 572, 'correlation': 0.49716700748859083}), (464, {'pair': 549, 'correlation': 0.43870519786945383}), (465, {'pair': 596, 'correlation': 0.439267650508274}), (466, {'pair': 546, 'correlation': 0.5201079458943733}), (467, {'pair': 681, 'correlation': 0.5058923640039414}), (468, {'pair': 812, 'correlation': 0.4859756734806873}), (469, {'pair': 522, 'correlation': 0.5674870120200523}), (470, {'pair': 627, 'correlation': 0.5208640240228752}), (471, {'pair': 475, 'correlation': 0.37222823664492727}), (472, {'pair': 513, 'correlation': 0.3737604142029457}), (473, {'pair': 580, 'correlation': 0.5318918695710467}), (474, {'pair': 760, 'correlation': 0.5083359621605988}), (475, {'pair': 832, 'correlation': 0.37095290520887725}), (476, {'pair': 508, 'correlation': 0.2574377400118386}), (477, {'pair': 549, 'correlation': 0.47590893383158744}), (478, {'pair': 597, 'correlation': 0.39815707116625215}), (479, {'pair': 543, 'correlation': 0.3120930139319731}), (480, {'pair': 596, 'correlation': 0.489480925944457}), (481, {'pair': 496, 'correlation': 0.6198989840528558}), (482, {'pair': 506, 'correlation': 0.31618330349997115}), (483, {'pair': 527, 'correlation': 0.5271731037420739}), (484, {'pair': 512, 'correlation': 0.5460740629345621}), (485, {'pair': 549, 'correlation': 0.5523634202397152}), (486, {'pair': 522, 'correlation': 0.5485509886213891}), (487, {'pair': 682, 'correlation': 0.3687724276273477}), (488, {'pair': 915, 'correlation': 0.3886083891683976}), (489, {'pair': 527, 'correlation': 0.47932329359842957}), (490, {'pair': 510, 'correlation': 0.5835356777797118}), (491, {'pair': 721, 'correlation': 0.4383893203871382}), (492, {'pair': 684, 'correlation': 0.31367683469716656}), (493, {'pair': 994, 'correlation': 0.37425930588342954}), (494, {'pair': 571, 'correlation': 0.5078166309609982}), (495, {'pair': 676, 'correlation': 0.6100051491161997}), (496, {'pair': 530, 'correlation': 0.5475358581115576}), (497, {'pair': 552, 'correlation': 0.48280617596230285}), (498, {'pair': 562, 'correlation': 0.4712514888725043}), (499, {'pair': 552, 'correlation': 0.4870152915338429}), (500, {'pair': 636, 'correlation': 0.377058925539894}), (501, {'pair': 669, 'correlation': 0.478874437641503}), (502, {'pair': 563, 'correlation': 0.5337286941144979}), (503, {'pair': 522, 'correlation': 0.49002567024981775}), (504, {'pair': 868, 'correlation': 0.39444668377491854}), (505, {'pair': 513, 'correlation': 0.45051338285383163}), (506, {'pair': 544, 'correlation': 0.37895190406709656}), (507, {'pair': 613, 'correlation': 0.3970039129895397}), (508, {'pair': 584, 'correlation': 0.5343969287821821}), (509, {'pair': 741, 'correlation': 0.49704615260434853}), (510, {'pair': 572, 'correlation': 0.585824547122877}), (511, {'pair': 576, 'correlation': 0.5799168268149065}), (512, {'pair': 549, 'correlation': 0.3635549128342034}), (513, {'pair': 882, 'correlation': 0.4598450832112781}), (514, {'pair': 677, 'correlation': 0.2194833791757838}), (515, {'pair': 546, 'correlation': 0.5059237268222506}), (516, {'pair': 755, 'correlation': 0.4803579108597463}), (517, {'pair': 851, 'correlation': 0.394476435911841}), (518, {'pair': 1336, 'correlation': 0.36343738334288994}), (519, {'pair': 1173, 'correlation': 0.3408269345765462}), (520, {'pair': 596, 'correlation': 0.373201234960293}), (521, {'pair': 774, 'correlation': 0.37919177427108325}), (522, {'pair': 549, 'correlation': 0.5393354630263513}), (523, {'pair': 682, 'correlation': 0.40004451973454075}), (524, {'pair': 587, 'correlation': 0.4762446582605805}), (525, {'pair': 771, 'correlation': 0.3916456529689186}), (526, {'pair': 694, 'correlation': 0.269777621837435}), (527, {'pair': 605, 'correlation': 0.6093287463445896}), (528, {'pair': 716, 'correlation': 0.45144371133550604}), (529, {'pair': 1055, 'correlation': 0.26288484259787054}), (530, {'pair': 631, 'correlation': 0.49349648499293336}), (531, {'pair': 631, 'correlation': 0.5633023852731175}), (532, {'pair': 619, 'correlation': 0.4394183600208859}), (533, {'pair': 690, 'correlation': 0.5152123609429748}), (534, {'pair': 571, 'correlation': 0.491663094110328}), (535, {'pair': 794, 'correlation': 0.44593013667933484}), (536, {'pair': 617, 'correlation': 0.39209043669483845}), (537, {'pair': 552, 'correlation': 0.5637766943975849}), (538, {'pair': 1176, 'correlation': 0.3389204953142746}), (539, {'pair': 773, 'correlation': 0.33202121314544814}), (540, {'pair': 618, 'correlation': 0.5289050595614189}), (541, {'pair': 607, 'correlation': 0.3983724814191499}), (542, {'pair': 783, 'correlation': 0.48403898134486}), (543, {'pair': 658, 'correlation': 0.5092533775492354}), (544, {'pair': 575, 'correlation': 0.4085871344619963}), (545, {'pair': 1457, 'correlation': 0.3525464798722511}), (546, {'pair': 600, 'correlation': 0.5234655478364131}), (547, {'pair': 844, 'correlation': 0.201890356623971}), (548, {'pair': 920, 'correlation': 0.3264901074620357}), (549, {'pair': 709, 'correlation': 0.5228515723334072}), (550, {'pair': 729, 'correlation': 0.5484142294345945}), (551, {'pair': 766, 'correlation': 0.46895369639926016}), (552, {'pair': 619, 'correlation': 0.5526646341443543}), (553, {'pair': 908, 'correlation': 0.2704136992286621}), (554, {'pair': 716, 'correlation': 0.5620472530497027}), (555, {'pair': 601, 'correlation': 0.4975100013890634}), (556, {'pair': 580, 'correlation': 0.4629303976813584}), (557, {'pair': 559, 'correlation': 0.39985383093167753}), (558, {'pair': 601, 'correlation': 0.4374808374437848}), (559, {'pair': 739, 'correlation': 0.42077189467927656}), (560, {'pair': 588, 'correlation': 0.27435542290723736}), (561, {'pair': 1444, 'correlation': 0.36626196288010165}), (562, {'pair': 614, 'correlation': 0.548562452832721}), (563, {'pair': 582, 'correlation': 0.5116750091451332}), (564, {'pair': 771, 'correlation': 0.4428478108992844}), (565, {'pair': 771, 'correlation': 0.3636227846832919}), (566, {'pair': 713, 'correlation': 0.5372506327420459}), (567, {'pair': 630, 'correlation': 0.4738365028295416}), (568, {'pair': 759, 'correlation': 0.4148007385799644}), (569, {'pair': 571, 'correlation': 0.5311529411818304}), (570, {'pair': 747, 'correlation': 0.5453489811499229}), (571, {'pair': 605, 'correlation': 0.5948973465710811}), (572, {'pair': 601, 'correlation': 0.4959321620014761}), (573, {'pair': 605, 'correlation': 0.4118926802116958}), (574, {'pair': 1386, 'correlation': 0.2999563303880362}), (575, {'pair': 787, 'correlation': 0.3891607332577243}), (576, {'pair': 669, 'correlation': 0.593489296470758}), (577, {'pair': 718, 'correlation': 0.46657361380649165}), (578, {'pair': 607, 'correlation': 0.36105257105390415}), (579, {'pair': 1610, 'correlation': 0.2492939732720877}), (580, {'pair': 630, 'correlation': 0.562835885843247}), (581, {'pair': 773, 'correlation': 0.41490048287984344}), (582, {'pair': 747, 'correlation': 0.5193357384950229}), (583, {'pair': 624, 'correlation': 0.311490979378691}), (584, {'pair': 722, 'correlation': 0.5450843544128915}), (585, {'pair': 688, 'correlation': 0.3700673298244581}), (586, {'pair': 738, 'correlation': 0.36912633660377875}), (587, {'pair': 741, 'correlation': 0.5107140697392003}), (588, {'pair': 649, 'correlation': 0.31683002244938757}), (589, {'pair': 621, 'correlation': 0.37831195658749295}), (590, {'pair': 741, 'correlation': 0.505951586685914}), (591, {'pair': 808, 'correlation': 0.22204973818519924}), (592, {'pair': 635, 'correlation': 0.326300063646262}), (593, {'pair': 872, 'correlation': 0.3366724289914556}), (594, {'pair': 630, 'correlation': 0.30599093786099285}), (595, {'pair': 787, 'correlation': 0.389009157755221}), (596, {'pair': 1163, 'correlation': 0.44470568603730426}), (597, {'pair': 1123, 'correlation': 0.4113487489187529}), (598, {'pair': 641, 'correlation': 0.4808981282208497}), (599, {'pair': 669, 'correlation': 0.5291630594433551}), (600, {'pair': 716, 'correlation': 0.5377520760891157}), (601, {'pair': 681, 'correlation': 0.5490898898622767}), (602, {'pair': 607, 'correlation': 0.3804942253019499}), (603, {'pair': 630, 'correlation': 0.39889677615558833}), (604, {'pair': 701, 'correlation': 0.4964533222028886}), (605, {'pair': 681, 'correlation': 0.5666551443039446}), (606, {'pair': 741, 'correlation': 0.389215855214827}), (607, {'pair': 774, 'correlation': 0.4409208563891174}), (608, {'pair': 674, 'correlation': 0.4881302377851144}), (609, {'pair': 719, 'correlation': 0.35928511908529565}), (610, {'pair': 654, 'correlation': 0.45304004788849883}), (611, {'pair': 721, 'correlation': 0.40897038138110575}), (612, {'pair': 641, 'correlation': 0.36645983639728535}), (613, {'pair': 659, 'correlation': 0.3791422900173142}), (614, {'pair': 616, 'correlation': 0.5060220159729352}), (615, {'pair': 643, 'correlation': 0.4821533452605792}), (616, {'pair': 681, 'correlation': 0.4234160819302132}), (617, {'pair': 967, 'correlation': 0.33041107272135645}), (618, {'pair': 619, 'correlation': 0.517930671066804}), (619, {'pair': 713, 'correlation': 0.5654552286366021}), (620, {'pair': 709, 'correlation': 0.49347683080139826}), (621, {'pair': 927, 'correlation': 0.34538771059967877}), (622, {'pair': 630, 'correlation': 0.489972575789297}), (623, {'pair': 965, 'correlation': 0.4783606683733501}), (624, {'pair': 719, 'correlation': 0.2817641785887189}), (625, {'pair': 827, 'correlation': 0.3573031251060337}), (626, {'pair': 883, 'correlation': 0.3265115872637173}), (627, {'pair': 685, 'correlation': 0.49787091891952245}), (628, {'pair': 663, 'correlation': 0.3838341791335752}), (629, {'pair': 706, 'correlation': 0.47087293363237537}), (630, {'pair': 744, 'correlation': 0.49220650720145126}), (631, {'pair': 701, 'correlation': 0.574446192317451}), (632, {'pair': 951, 'correlation': 0.3283132647499919}), (633, {'pair': 848, 'correlation': 0.4283377535366578}), (634, {'pair': 944, 'correlation': 0.43526838080793995}), (635, {'pair': 738, 'correlation': 0.3202804090298861}), (636, {'pair': 681, 'correlation': 0.5344506455447952}), (637, {'pair': 1272, 'correlation': 0.3351740180236791}), (638, {'pair': 659, 'correlation': 0.3746399328675086}), (639, {'pair': 674, 'correlation': 0.4528271649061872}), (640, {'pair': 706, 'correlation': 0.4913796997037609}), (641, {'pair': 721, 'correlation': 0.49187940308942313}), (642, {'pair': 959, 'correlation': 0.29760071758596823}), (643, {'pair': 713, 'correlation': 0.5113273913216697}), (644, {'pair': 681, 'correlation': 0.48944251789761467}), (645, {'pair': 1125, 'correlation': 0.31012599252330003}), (646, {'pair': 1202, 'correlation': 0.281480015461623}), (647, {'pair': 718, 'correlation': 0.46478687798666496}), (648, {'pair': 668, 'correlation': 0.2634873761267386}), (649, {'pair': 1016, 'correlation': 0.4548938785069318}), (650, {'pair': 662, 'correlation': 0.35695379345954964}), (651, {'pair': 654, 'correlation': 0.4612411589103785}), (652, {'pair': 842, 'correlation': 0.3527173531587333}), (653, {'pair': 1055, 'correlation': 0.29218005801683034}), (654, {'pair': 674, 'correlation': 0.5114349230567984}), (655, {'pair': 739, 'correlation': 0.5127536705816519}), (656, {'pair': 722, 'correlation': 0.4843470347867284}), (657, {'pair': 701, 'correlation': 0.5405218833139314}), (658, {'pair': 809, 'correlation': 0.5027153866988266}), (659, {'pair': 1102, 'correlation': 0.40291862992293703}), (660, {'pair': 848, 'correlation': 0.3683629453157941}), (661, {'pair': 724, 'correlation': 0.42129344705562927}), (662, {'pair': 953, 'correlation': 0.39208097901933403}), (663, {'pair': 896, 'correlation': 0.3001623230107033}), (664, {'pair': 1433, 'correlation': 0.30739911205635123}), (665, {'pair': 1206, 'correlation': 0.300503524169207}), (666, {'pair': 967, 'correlation': 0.28950346674246874}), (667, {'pair': 1177, 'correlation': 0.2948600509164388}), (668, {'pair': 701, 'correlation': 0.5034318928874854}), (669, {'pair': 701, 'correlation': 0.549975353490185}), (670, {'pair': 693, 'correlation': 0.4691441817561817}), (671, {'pair': 799, 'correlation': 0.3355177963016751}), (672, {'pair': 824, 'correlation': 0.3543851344593959}), (673, {'pair': 706, 'correlation': 0.5003080656086228}), (674, {'pair': 921, 'correlation': 0.5023693268470276}), (675, {'pair': 696, 'correlation': 0.4023479925110117}), (676, {'pair': 995, 'correlation': 0.5331453000700186}), (677, {'pair': 1056, 'correlation': 0.3061120100046812}), (678, {'pair': 718, 'correlation': 0.4384466370845869}), (679, {'pair': 1853, 'correlation': 0.19226809094503472}), (680, {'pair': 821, 'correlation': 0.5129158176098125}), (681, {'pair': 744, 'correlation': 0.5964606615926461}), (682, {'pair': 812, 'correlation': 0.3692990843897961}), (683, {'pair': 716, 'correlation': 0.5464076665714275}), (684, {'pair': 861, 'correlation': 0.22461826386369196}), (685, {'pair': 709, 'correlation': 0.45081415515984785}), (686, {'pair': 890, 'correlation': 0.25220519600389407}), (687, {'pair': 828, 'correlation': 0.2067135472187246}), (688, {'pair': 943, 'correlation': 0.35670288118462234}), (689, {'pair': 783, 'correlation': 0.4724223313855669}), (690, {'pair': 825, 'correlation': 0.4557298955774215}), (691, {'pair': 761, 'correlation': 0.39534483714040913}), (692, {'pair': 773, 'correlation': 0.4080023937415517}), (693, {'pair': 719, 'correlation': 0.48493679109919946}), (694, {'pair': 891, 'correlation': 0.3490555453820768}), (695, {'pair': 739, 'correlation': 0.4811090847913293}), (696, {'pair': 1163, 'correlation': 0.289291497369172}), (697, {'pair': 766, 'correlation': 0.354433340153737}), (698, {'pair': 970, 'correlation': 0.3980053232391813}), (699, {'pair': 762, 'correlation': 0.3396126612877431}), (700, {'pair': 701, 'correlation': 0.4417425410838205}), (701, {'pair': 744, 'correlation': 0.541027816329764}), (702, {'pair': 931, 'correlation': 0.43241759792985046}), (703, {'pair': 914, 'correlation': 0.48885398355359766}), (704, {'pair': 713, 'correlation': 0.39832480324010505}), (705, {'pair': 965, 'correlation': 0.4577702952711037}), (706, {'pair': 747, 'correlation': 0.5364255388289587}), (707, {'pair': 741, 'correlation': 0.47964438865087916}), (708, {'pair': 780, 'correlation': 0.4934805046280643}), (709, {'pair': 954, 'correlation': 0.4909723142472208}), (710, {'pair': 921, 'correlation': 0.4775376331015003}), (711, {'pair': 815, 'correlation': 0.35915240425855294}), (712, {'pair': 747, 'correlation': 0.45793586114119844}), (713, {'pair': 747, 'correlation': 0.5343487650646527}), (714, {'pair': 729, 'correlation': 0.5395057470708665}), (715, {'pair': 771, 'correlation': 0.3312787634957055}), (716, {'pair': 729, 'correlation': 0.5606275914613861}), (717, {'pair': 911, 'correlation': 0.28697331001844933}), (718, {'pair': 780, 'correlation': 0.49033654432106316}), (719, {'pair': 778, 'correlation': 0.4766842365825379}), (720, {'pair': 971, 'correlation': 0.36008194633706203}), (721, {'pair': 1099, 'correlation': 0.43958170188679085}), (722, {'pair': 747, 'correlation': 0.502113574013414}), (723, {'pair': 1387, 'correlation': 0.27744885407886266}), (724, {'pair': 778, 'correlation': 0.47214411060538736}), (725, {'pair': 1127, 'correlation': 0.3389894887981404}), (726, {'pair': 744, 'correlation': 0.44716525461946743}), (727, {'pair': 849, 'correlation': 0.28061022371913596}), (728, {'pair': 927, 'correlation': 0.26797869379209394}), (729, {'pair': 743, 'correlation': 0.5228888212269933}), (730, {'pair': 783, 'correlation': 0.38077362985366564}), (731, {'pair': 838, 'correlation': 0.34147612210367073}), (732, {'pair': 773, 'correlation': 0.3703556569459463}), (733, {'pair': 1449, 'correlation': 0.22736015571497392}), (734, {'pair': 787, 'correlation': 0.37210141006551617}), (735, {'pair': 757, 'correlation': 0.4241581583881544}), (736, {'pair': 744, 'correlation': 0.46182763241495095}), (737, {'pair': 995, 'correlation': 0.42609224632181497}), (738, {'pair': 892, 'correlation': 0.40859896023806097}), (739, {'pair': 957, 'correlation': 0.4795939956617554}), (740, {'pair': 1104, 'correlation': 0.3270651262245069}), (741, {'pair': 747, 'correlation': 0.4907788440964664}), (742, {'pair': 799, 'correlation': 0.3034229181447818}), (743, {'pair': 968, 'correlation': 0.4989864122204639}), (744, {'pair': 768, 'correlation': 0.4976955501469067}), (745, {'pair': 965, 'correlation': 0.45846564413254304}), (746, {'pair': 929, 'correlation': 0.47124917721981224}), (747, {'pair': 803, 'correlation': 0.49005428582968225}), (748, {'pair': 786, 'correlation': 0.42097862302801153}), (749, {'pair': 886, 'correlation': 0.4462952324186797}), (750, {'pair': 783, 'correlation': 0.4477659629732567}), (751, {'pair': 908, 'correlation': 0.3043642728515754}), (752, {'pair': 778, 'correlation': 0.429518882440953}), (753, {'pair': 777, 'correlation': 0.3404358353156786}), (754, {'pair': 961, 'correlation': 0.4538860138173225}), (755, {'pair': 973, 'correlation': 0.43423683875890795}), (756, {'pair': 848, 'correlation': 0.385248185207376}), (757, {'pair': 781, 'correlation': 0.4564508165232051}), (758, {'pair': 858, 'correlation': 0.4271015288371716}), (759, {'pair': 882, 'correlation': 0.4146406382833269}), (760, {'pair': 860, 'correlation': 0.40909264616441854}), (761, {'pair': 783, 'correlation': 0.42726859296784303}), (762, {'pair': 1010, 'correlation': 0.4234801174471675}), (763, {'pair': 784, 'correlation': 0.382999685788343}), (764, {'pair': 1016, 'correlation': 0.30880669110212433}), (765, {'pair': 780, 'correlation': 0.4460501165478372}), (766, {'pair': 815, 'correlation': 0.40159601793987953}), (767, {'pair': 812, 'correlation': 0.4048857910624996}), (768, {'pair': 1007, 'correlation': 0.466359818380844}), (769, {'pair': 974, 'correlation': 0.4602382945645525}), (770, {'pair': 784, 'correlation': 0.4585309743222055}), (771, {'pair': 954, 'correlation': 0.42552727927706335}), (772, {'pair': 774, 'correlation': 0.34063510448366613}), (773, {'pair': 809, 'correlation': 0.4036656992373267}), (774, {'pair': 783, 'correlation': 0.43657958437189126}), (775, {'pair': 914, 'correlation': 0.34380009435239567}), (776, {'pair': 891, 'correlation': 0.3188483687153371}), (777, {'pair': 794, 'correlation': 0.4323518573914693}), (778, {'pair': 783, 'correlation': 0.45629556305794394}), (779, {'pair': 858, 'correlation': 0.4930652653610804}), (780, {'pair': 860, 'correlation': 0.4705164159070187}), (781, {'pair': 852, 'correlation': 0.451930445402377}), (782, {'pair': 860, 'correlation': 0.4092759888462283}), (783, {'pair': 1005, 'correlation': 0.437999466823604}), (784, {'pair': 803, 'correlation': 0.45218293463120096}), (785, {'pair': 935, 'correlation': 0.4305633989340749}), (786, {'pair': 1009, 'correlation': 0.3955666904153624}), (787, {'pair': 973, 'correlation': 0.41828440781959497}), (788, {'pair': 961, 'correlation': 0.39772321998804366}), (789, {'pair': 903, 'correlation': 0.33198900405415954}), (790, {'pair': 1007, 'correlation': 0.42070750346930047}), (791, {'pair': 1182, 'correlation': 0.2657971188416699}), (792, {'pair': 960, 'correlation': 0.16571718152657547}), (793, {'pair': 831, 'correlation': 0.3079725281318981}), (794, {'pair': 954, 'correlation': 0.42974790371423127}), (795, {'pair': 1053, 'correlation': 0.44474903801721827}), (796, {'pair': 981, 'correlation': 0.23609127323279902}), (797, {'pair': 1194, 'correlation': 0.30171108880839825}), (798, {'pair': 901, 'correlation': 0.20634359114986642}), (799, {'pair': 959, 'correlation': 0.31874497678710334}), (800, {'pair': 921, 'correlation': 0.4486894678193477}), (801, {'pair': 856, 'correlation': 0.24187237675242154}), (802, {'pair': 982, 'correlation': 0.24763865717744948}), (803, {'pair': 860, 'correlation': 0.4583510656888609}), (804, {'pair': 852, 'correlation': 0.40158123929989376}), (805, {'pair': 1005, 'correlation': 0.39317926243414014}), (806, {'pair': 1005, 'correlation': 0.4276848154360904}), (807, {'pair': 965, 'correlation': 0.46089142910721226}), (808, {'pair': 1466, 'correlation': 0.21384191504230568}), (809, {'pair': 970, 'correlation': 0.46706470412869855}), (810, {'pair': 820, 'correlation': 0.24130232058757256}), (811, {'pair': 897, 'correlation': 0.3619796192957964}), (812, {'pair': 853, 'correlation': 0.4700910989195831}), (813, {'pair': 967, 'correlation': 0.2819265764126567}), (814, {'pair': 1066, 'correlation': 0.37082313264880873}), (815, {'pair': 882, 'correlation': 0.3852946301671455}), (816, {'pair': 887, 'correlation': 0.3676800606735183}), (817, {'pair': 967, 'correlation': 0.21595312519870394}), (818, {'pair': 995, 'correlation': 0.1792698120339415}), (819, {'pair': 973, 'correlation': 0.4105067362269313}), (820, {'pair': 868, 'correlation': 0.349884453647502}), (821, {'pair': 968, 'correlation': 0.478817987631304}), (822, {'pair': 827, 'correlation': 0.24459353859582914}), (823, {'pair': 944, 'correlation': 0.3817431315030694}), (824, {'pair': 954, 'correlation': 0.39595270238926983}), (825, {'pair': 1184, 'correlation': 0.39311030093560306}), (826, {'pair': 968, 'correlation': 0.4214608799366541}), (827, {'pair': 1045, 'correlation': 0.2733053868117918}), (828, {'pair': 944, 'correlation': 0.43795386560206734}), (829, {'pair': 1005, 'correlation': 0.3929408434616116}), (830, {'pair': 987, 'correlation': 0.3171092993033067}), (831, {'pair': 853, 'correlation': 0.4067581860960728}), (832, {'pair': 997, 'correlation': 0.33216331180098485}), (833, {'pair': 974, 'correlation': 0.43659979051936953}), (834, {'pair': 961, 'correlation': 0.32369551190630463}), (835, {'pair': 860, 'correlation': 0.36964133656655723}), (836, {'pair': 907, 'correlation': 0.25148868137291513}), (837, {'pair': 984, 'correlation': 0.31264064963848937}), (838, {'pair': 1134, 'correlation': 0.29050549612426113}), (839, {'pair': 999, 'correlation': 0.29872540430203576}), (840, {'pair': 997, 'correlation': 0.2739363211870577}), (841, {'pair': 924, 'correlation': 0.36693359866044467}), (842, {'pair': 1081, 'correlation': 0.3454022097001206}), (843, {'pair': 849, 'correlation': 0.2403605790774127}), (844, {'pair': 1430, 'correlation': 0.2939116705996773}), (845, {'pair': 1024, 'correlation': 0.47124262335889294}), (846, {'pair': 1439, 'correlation': 0.22460439736824966}), (847, {'pair': 1194, 'correlation': 0.21570071988099254}), (848, {'pair': 970, 'correlation': 0.4312264074777529}), (849, {'pair': 963, 'correlation': 0.3135909683851926}), (850, {'pair': 853, 'correlation': 0.38074753880762535}), (851, {'pair': 1429, 'correlation': 0.2370035084110152}), (852, {'pair': 1142, 'correlation': 0.4231251777746919}), (853, {'pair': 1043, 'correlation': 0.33902248751805286}), (854, {'pair': 971, 'correlation': 0.32478833903745347}), (855, {'pair': 1223, 'correlation': 0.33763486291844796}), (856, {'pair': 885, 'correlation': 0.2584549586848531}), (857, {'pair': 1127, 'correlation': 0.19090787379148452}), (858, {'pair': 1066, 'correlation': 0.46458271736693085}), (859, {'pair': 965, 'correlation': 0.25685670904614505}), (860, {'pair': 887, 'correlation': 0.4688773633545851}), (861, {'pair': 1101, 'correlation': 0.33425996101978295}), (862, {'pair': 983, 'correlation': 0.4084292494346579}), (863, {'pair': 1658, 'correlation': 0.2506166018327747}), (864, {'pair': 911, 'correlation': 0.3833007855768162}), (865, {'pair': 961, 'correlation': 0.3992110376817984}), (866, {'pair': 874, 'correlation': 0.32452319106128796}), (867, {'pair': 1175, 'correlation': 0.36884559892187685}), (868, {'pair': 945, 'correlation': 0.29721853703494916}), (869, {'pair': 984, 'correlation': 0.34234629885728723}), (870, {'pair': 1112, 'correlation': 0.27346240095818874}), (871, {'pair': 1299, 'correlation': 0.4034620225922581}), (872, {'pair': 935, 'correlation': 0.36094064601638853}), (873, {'pair': 970, 'correlation': 0.32892206052565093}), (874, {'pair': 1231, 'correlation': 0.32890343335862}), (875, {'pair': 968, 'correlation': 0.456237054102664}), (876, {'pair': 954, 'correlation': 0.33204914494102084}), (877, {'pair': 1134, 'correlation': 0.2995223504968341}), (878, {'pair': 1081, 'correlation': 0.400248297126933}), (879, {'pair': 901, 'correlation': 0.3438546564364236}), (880, {'pair': 905, 'correlation': 0.29534269522903484}), (881, {'pair': 963, 'correlation': 0.26998825614139316}), (882, {'pair': 1304, 'correlation': 0.35206162462658447}), (883, {'pair': 965, 'correlation': 0.43504523391783656}), (884, {'pair': 965, 'correlation': 0.35220949984683214}), (885, {'pair': 1005, 'correlation': 0.35482021736991537}), (886, {'pair': 993, 'correlation': 0.4202656813351905}), (887, {'pair': 916, 'correlation': 0.42410920926775864}), (888, {'pair': 1066, 'correlation': 0.3962259752849694}), (889, {'pair': 961, 'correlation': 0.3509344139755842}), (890, {'pair': 909, 'correlation': 0.33070703844013105}), (891, {'pair': 946, 'correlation': 0.305861138382494}), (892, {'pair': 1173, 'correlation': 0.37333310087677957}), (893, {'pair': 933, 'correlation': 0.31524580676071395}), (894, {'pair': 1178, 'correlation': 0.20653934877150826}), (895, {'pair': 997, 'correlation': 0.35094412312645695}), (896, {'pair': 967, 'correlation': 0.26856375461188803}), (897, {'pair': 935, 'correlation': 0.39242848294585947}), (898, {'pair': 983, 'correlation': 0.4269575449357416}), (899, {'pair': 968, 'correlation': 0.4408059435517253}), (900, {'pair': 946, 'correlation': 0.15686783542666916}), (901, {'pair': 1081, 'correlation': 0.3232083834806372}), (902, {'pair': 1788, 'correlation': 0.18374918131478796}), (903, {'pair': 933, 'correlation': 0.3353215416252756}), (904, {'pair': 1081, 'correlation': 0.2757344582510825}), (905, {'pair': 993, 'correlation': 0.4262132052588583}), (906, {'pair': 1033, 'correlation': 0.413021943087206}), (907, {'pair': 1096, 'correlation': 0.35993940775239575}), (908, {'pair': 1508, 'correlation': 0.2830675031212195}), (909, {'pair': 1016, 'correlation': 0.35405058758544966}), (910, {'pair': 1507, 'correlation': 0.22030335694331857}), (911, {'pair': 943, 'correlation': 0.2994115878860928}), (912, {'pair': 974, 'correlation': 0.4459873258667811}), (913, {'pair': 965, 'correlation': 0.41646760139901107}), (914, {'pair': 1131, 'correlation': 0.48533729772362244}), (915, {'pair': 994, 'correlation': 0.3914132705096321}), (916, {'pair': 993, 'correlation': 0.4409116342230208}), (917, {'pair': 935, 'correlation': 0.30249798166484937}), (918, {'pair': 951, 'correlation': 0.2268537009224851}), (919, {'pair': 1155, 'correlation': 0.245625138849654}), (920, {'pair': 1610, 'correlation': 0.2673801170099852}), (921, {'pair': 961, 'correlation': 0.44153161179766015}), (922, {'pair': 1316, 'correlation': 0.24351737708822033}), (923, {'pair': 1009, 'correlation': 0.3203521761363418}), (924, {'pair': 936, 'correlation': 0.3358372436385255}), (925, {'pair': 1099, 'correlation': 0.33375003732449804}), (926, {'pair': 966, 'correlation': 0.3079911018073995}), (927, {'pair': 1049, 'correlation': 0.31325402303873395}), (928, {'pair': 1101, 'correlation': 0.43218035405304345}), (929, {'pair': 995, 'correlation': 0.3970254870699142}), (930, {'pair': 1036, 'correlation': 0.34248753552383715}), (931, {'pair': 954, 'correlation': 0.40804113459773866}), (932, {'pair': 964, 'correlation': 0.289623987997689}), (933, {'pair': 1073, 'correlation': 0.39840729509458006}), (934, {'pair': 1007, 'correlation': 0.4394825091517755}), (935, {'pair': 954, 'correlation': 0.40252689723301716}), (936, {'pair': 953, 'correlation': 0.33736357514218}), (937, {'pair': 954, 'correlation': 0.28804890107020337}), (938, {'pair': 968, 'correlation': 0.43950763318885305}), (939, {'pair': 1072, 'correlation': 0.39555806653176767}), (940, {'pair': 1223, 'correlation': 0.27301431361754985}), (941, {'pair': 1214, 'correlation': 0.3456304755840842}), (942, {'pair': 993, 'correlation': 0.41996815273442356}), (943, {'pair': 1444, 'correlation': 0.2798550502156578}), (944, {'pair': 1136, 'correlation': 0.44618459739592375}), (945, {'pair': 1163, 'correlation': 0.3156763037719631}), (946, {'pair': 1198, 'correlation': 0.2685307817449389}), (947, {'pair': 959, 'correlation': 0.3146903408813731}), (948, {'pair': 1043, 'correlation': 0.2546714670551631}), (949, {'pair': 1025, 'correlation': 0.2609372928467344}), (950, {'pair': 1014, 'correlation': 0.22272784451735478}), (951, {'pair': 1202, 'correlation': 0.3276490111849978}), (952, {'pair': 1007, 'correlation': 0.3510432318318789}), (953, {'pair': 1051, 'correlation': 0.31591237892185614}), (954, {'pair': 1240, 'correlation': 0.39560528715368604}), (955, {'pair': 975, 'correlation': 0.3449474147337647}), (956, {'pair': 1835, 'correlation': 0.10730421432791569}), (957, {'pair': 965, 'correlation': 0.3952758636494322}), (958, {'pair': 1010, 'correlation': 0.35221154065808685}), (959, {'pair': 984, 'correlation': 0.394808337878777}), (960, {'pair': 1077, 'correlation': 0.366599277702677}), (961, {'pair': 1098, 'correlation': 0.41378879134566504}), (962, {'pair': 1096, 'correlation': 0.2226289587774746}), (963, {'pair': 1210, 'correlation': 0.27217708292526493}), (964, {'pair': 984, 'correlation': 0.3595489174674934}), (965, {'pair': 974, 'correlation': 0.5010947490060648}), (966, {'pair': 1528, 'correlation': 0.27474953925285867}), (967, {'pair': 1331, 'correlation': 0.24761550720119874}), (968, {'pair': 1101, 'correlation': 0.4895788222381477}), (969, {'pair': 1005, 'correlation': 0.4284705058213734}), (970, {'pair': 1007, 'correlation': 0.4330706441341334}), (971, {'pair': 1054, 'correlation': 0.4225546023053691}), (972, {'pair': 1007, 'correlation': 0.3654817368659631}), (973, {'pair': 1124, 'correlation': 0.4411880632584243}), (974, {'pair': 1017, 'correlation': 0.46403033360382345}), (975, {'pair': 1196, 'correlation': 0.3593458627102525}), (976, {'pair': 987, 'correlation': 0.35048663984024614}), (977, {'pair': 1028, 'correlation': 0.3342612686168789}), (978, {'pair': 1099, 'correlation': 0.3179159719961406}), (979, {'pair': 1071, 'correlation': 0.3948228471254311}), (980, {'pair': 1198, 'correlation': 0.256180285103654}), (981, {'pair': 995, 'correlation': 0.3774154638956013}), (982, {'pair': 1081, 'correlation': 0.24352639246256869}), (983, {'pair': 1033, 'correlation': 0.4229865532668082}), (984, {'pair': 1052, 'correlation': 0.4499611361766965}), (985, {'pair': 1091, 'correlation': 0.21604599676453648}), (986, {'pair': 1016, 'correlation': 0.3323820210065921}), (987, {'pair': 1005, 'correlation': 0.3637814085060735}), (988, {'pair': 1081, 'correlation': 0.2587487108924651}), (989, {'pair': 1073, 'correlation': 0.3504095515430764}), (990, {'pair': 1011, 'correlation': 0.24344184310891678}), (991, {'pair': 1124, 'correlation': 0.41455745207417033}), (992, {'pair': 1042, 'correlation': 0.26575049540376283}), (993, {'pair': 1066, 'correlation': 0.449783919597443}), (994, {'pair': 1166, 'correlation': 0.4004499430438516}), (995, {'pair': 1287, 'correlation': 0.45359867450420965}), (996, {'pair': 1143, 'correlation': 0.4164558882060143}), (997, {'pair': 1092, 'correlation': 0.38892546517373866}), (998, {'pair': 1030, 'correlation': 0.3536307478225537}), (999, {'pair': 1551, 'correlation': 0.27759542634918005}), (1000, {'pair': 1290, 'correlation': 0.21277727776419522}), (1001, {'pair': 1072, 'correlation': 0.18478263435599082}), (1002, {'pair': 1053, 'correlation': 0.36616385668301527}), (1003, {'pair': 1007, 'correlation': 0.3856518446154048}), (1004, {'pair': 1009, 'correlation': 0.3587878081790037}), (1005, {'pair': 1114, 'correlation': 0.40823911179590744}), (1006, {'pair': 1218, 'correlation': 0.25681139760238414}), (1007, {'pair': 1113, 'correlation': 0.43383363750337756}), (1008, {'pair': 1127, 'correlation': 0.34828379751790856}), (1009, {'pair': 1298, 'correlation': 0.3341130404673481}), (1010, {'pair': 1098, 'correlation': 0.417228843349438}), (1011, {'pair': 1223, 'correlation': 0.38586989145324974}), (1012, {'pair': 1299, 'correlation': 0.3582983143621969}), (1013, {'pair': 1055, 'correlation': 0.16361274896597386}), (1014, {'pair': 1046, 'correlation': 0.25994225960283207}), (1015, {'pair': 1418, 'correlation': 0.32303061590440363}), (1016, {'pair': 1255, 'correlation': 0.38420485853699765}), (1017, {'pair': 1052, 'correlation': 0.434997899637735}), (1018, {'pair': 1053, 'correlation': 0.3701689710623447}), (1019, {'pair': 1177, 'correlation': 0.24225989064977774}), (1020, {'pair': 1258, 'correlation': 0.36596617861115033}), (1021, {'pair': 1033, 'correlation': 0.32813764960038316}), (1022, {'pair': 1192, 'correlation': 0.4199527956800631}), (1023, {'pair': 1240, 'correlation': 0.23661262252462423}), (1024, {'pair': 1092, 'correlation': 0.3584724412401352}), (1025, {'pair': 1433, 'correlation': 0.334648603835824}), (1026, {'pair': 1110, 'correlation': 0.2135402312786796}), (1027, {'pair': 1162, 'correlation': 0.19924434890369214}), (1028, {'pair': 1196, 'correlation': 0.36362294460394157}), (1029, {'pair': 1131, 'correlation': 0.33376359426335983}), (1030, {'pair': 1163, 'correlation': 0.3285804448784575}), (1031, {'pair': 1370, 'correlation': 0.1933324778334884}), (1032, {'pair': 1245, 'correlation': 0.340827999070611}), (1033, {'pair': 1050, 'correlation': 0.39041282828688956}), (1034, {'pair': 1046, 'correlation': 0.23410304967291198}), (1035, {'pair': 1051, 'correlation': 0.3200267613505576}), (1036, {'pair': 1213, 'correlation': 0.3693061029431092}), (1037, {'pair': 1104, 'correlation': 0.2551901258177469}), (1038, {'pair': 1098, 'correlation': 0.38207079158482654}), (1039, {'pair': 1108, 'correlation': 0.3014565511919795}), (1040, {'pair': 1212, 'correlation': 0.27333099628903557}), (1041, {'pair': 1224, 'correlation': 0.3261793532859681}), (1042, {'pair': 1189, 'correlation': 0.3697404454760441}), (1043, {'pair': 1098, 'correlation': 0.36280367453775864}), (1044, {'pair': 1204, 'correlation': 0.2563869480987078}), (1045, {'pair': 1139, 'correlation': 0.2435338241780969}), (1046, {'pair': 1087, 'correlation': 0.23764832987657936}), (1047, {'pair': 1254, 'correlation': 0.30738577239775133}), (1048, {'pair': 1165, 'correlation': 0.3029226212592325}), (1049, {'pair': 1071, 'correlation': 0.367439960473482}), (1050, {'pair': 1072, 'correlation': 0.3636091974535462}), (1051, {'pair': 1277, 'correlation': 0.38356349007418206}), (1052, {'pair': 1124, 'correlation': 0.4102852487522844}), (1053, {'pair': 1124, 'correlation': 0.4235209351590234}), (1054, {'pair': 1266, 'correlation': 0.381815319724462}), (1055, {'pair': 1610, 'correlation': 0.25967873169136785}), (1056, {'pair': 1387, 'correlation': 0.23007973424518077}), (1057, {'pair': 1284, 'correlation': 0.25661057510907975}), (1058, {'pair': 1124, 'correlation': 0.10104339088177226}), (1059, {'pair': 1299, 'correlation': 0.3175728582988359}), (1060, {'pair': 1194, 'correlation': 0.25792045864546637}), (1061, {'pair': 1131, 'correlation': 0.33719513637128035}), (1062, {'pair': 1254, 'correlation': 0.30128083570876896}), (1063, {'pair': 1302, 'correlation': 0.21629804550796541}), (1064, {'pair': 1124, 'correlation': 0.30384063858878646}), (1065, {'pair': 1363, 'correlation': 0.368417235831241}), (1066, {'pair': 1101, 'correlation': 0.42383737455674964}), (1067, {'pair': 1127, 'correlation': 0.29155275766864536}), (1068, {'pair': 1199, 'correlation': 0.39642267238649553}), (1069, {'pair': 1595, 'correlation': 0.15283308638527343}), (1070, {'pair': 1124, 'correlation': 0.39647110201862684}), (1071, {'pair': 1124, 'correlation': 0.4060290884238369}), (1072, {'pair': 1269, 'correlation': 0.37047794640785126}), (1073, {'pair': 1086, 'correlation': 0.3934149134767258}), (1074, {'pair': 1124, 'correlation': 0.38659029175371556}), (1075, {'pair': 1124, 'correlation': 0.35657003639772616}), (1076, {'pair': 1304, 'correlation': 0.20874237819632666}), (1077, {'pair': 1248, 'correlation': 0.29232708631736354}), (1078, {'pair': 1124, 'correlation': 0.26120379709674263}), (1079, {'pair': 1392, 'correlation': 0.2564980105336732}), (1080, {'pair': 1101, 'correlation': 0.3087880002789101}), (1081, {'pair': 1180, 'correlation': 0.3082276807869849}), (1082, {'pair': 1215, 'correlation': 0.3035069410809219}), (1083, {'pair': 1143, 'correlation': 0.34303719758558177}), (1084, {'pair': 1331, 'correlation': 0.19313957138096324}), (1085, {'pair': 1086, 'correlation': 0.369221082980167}), (1086, {'pair': 1258, 'correlation': 0.3734792272877162}), (1087, {'pair': 1230, 'correlation': 0.24310126380713531}), (1088, {'pair': 1139, 'correlation': 0.21962114515845263}), (1089, {'pair': 1196, 'correlation': 0.3627352617522158}), (1090, {'pair': 1610, 'correlation': 0.23850615136176592}), (1091, {'pair': 1325, 'correlation': 0.3184825803789283}), (1092, {'pair': 1096, 'correlation': 0.33167902112469017}), (1093, {'pair': 1443, 'correlation': 0.20904050958012443}), (1094, {'pair': 1098, 'correlation': 0.3647036526717268}), (1095, {'pair': 1145, 'correlation': 0.27149078608340554}), (1096, {'pair': 1099, 'correlation': 0.33142597653229633}), (1097, {'pair': 1258, 'correlation': 0.30353605909700954}), (1098, {'pair': 1245, 'correlation': 0.37761745830151106}), (1099, {'pair': 1127, 'correlation': 0.3724473931264727}), (1100, {'pair': 1327, 'correlation': 0.3031583367031802}), (1101, {'pair': 1339, 'correlation': 0.4131622105292932}), (1102, {'pair': 1167, 'correlation': 0.31859967806539985}), (1103, {'pair': 1167, 'correlation': 0.24567723423640594}), (1104, {'pair': 1129, 'correlation': 0.31226495953025696}), (1105, {'pair': 1124, 'correlation': 0.31997194444236543}), (1106, {'pair': 1245, 'correlation': 0.31111970338633604}), (1107, {'pair': 1244, 'correlation': 0.35797420673395264}), (1108, {'pair': 1212, 'correlation': 0.31240538130547724}), (1109, {'pair': 1245, 'correlation': 0.3083822592044919}), (1110, {'pair': 1179, 'correlation': 0.30159987406819033}), (1111, {'pair': 1192, 'correlation': 0.35942091349466027}), (1112, {'pair': 1240, 'correlation': 0.3493481047692517}), (1113, {'pair': 1124, 'correlation': 0.40281964710873985}), (1114, {'pair': 1258, 'correlation': 0.36313769966592097}), (1115, {'pair': 1258, 'correlation': 0.3434582322604141}), (1116, {'pair': 1172, 'correlation': 0.2372060619532689}), (1117, {'pair': 1186, 'correlation': 0.41132490544767236}), (1118, {'pair': 1266, 'correlation': 0.35972354586851196}), (1119, {'pair': 1315, 'correlation': 0.28770625798894595}), (1120, {'pair': 1245, 'correlation': 0.34027363883355616}), (1121, {'pair': 1266, 'correlation': 0.3073930221449915}), (1122, {'pair': 1241, 'correlation': 0.28718017777574795}), (1123, {'pair': 1278, 'correlation': 0.34996850496736603}), (1124, {'pair': 1266, 'correlation': 0.41391548584367044}), (1125, {'pair': 1186, 'correlation': 0.358547176019226}), (1126, {'pair': 1273, 'correlation': 0.2844044552351389}), (1127, {'pair': 1154, 'correlation': 0.36168505258564465}), (1128, {'pair': 1339, 'correlation': 0.30503858057990296}), (1129, {'pair': 1241, 'correlation': 0.28988476413718944}), (1130, {'pair': 1153, 'correlation': 0.3021350681077977}), (1131, {'pair': 1138, 'correlation': 0.3565137188755798}), (1132, {'pair': 1184, 'correlation': 0.32827882145066895}), (1133, {'pair': 1183, 'correlation': 0.3752100124905813}), (1134, {'pair': 1157, 'correlation': 0.2595647506653028}), (1135, {'pair': 1268, 'correlation': 0.3464659471743369}), (1136, {'pair': 1410, 'correlation': 0.3539614330318621}), (1137, {'pair': 1296, 'correlation': 0.21344013859486832}), (1138, {'pair': 1266, 'correlation': 0.37350355646589845}), (1139, {'pair': 1149, 'correlation': 0.21334610432450385}), (1140, {'pair': 1304, 'correlation': 0.2001338446019908}), (1141, {'pair': 1270, 'correlation': 0.17355100697964101}), (1142, {'pair': 1143, 'correlation': 0.3670594372124924}), (1143, {'pair': 1215, 'correlation': 0.3640175211639863}), (1144, {'pair': 1185, 'correlation': 0.14158596543178373}), (1145, {'pair': 1176, 'correlation': 0.35240085809072813}), (1146, {'pair': 1328, 'correlation': 0.30832509218822673}), (1147, {'pair': 1196, 'correlation': 0.3560263480858485}), (1148, {'pair': 1224, 'correlation': 0.24955844726107101}), (1149, {'pair': 1351, 'correlation': 0.21655658660771215}), (1150, {'pair': 1167, 'correlation': 0.17997658546981132}), (1151, {'pair': 1190, 'correlation': 0.32607972810430275}), (1152, {'pair': 1166, 'correlation': 0.32551491465480314}), (1153, {'pair': 1266, 'correlation': 0.3212424842178955}), (1154, {'pair': 1212, 'correlation': 0.3531360120690544}), (1155, {'pair': 1196, 'correlation': 0.3253156881408672}), (1156, {'pair': 1435, 'correlation': 0.23075805670876817}), (1157, {'pair': 1226, 'correlation': 0.27812950373686707}), (1158, {'pair': 1459, 'correlation': 0.1720564543238243}), (1159, {'pair': 1610, 'correlation': 0.22005613575350644}), (1160, {'pair': 1218, 'correlation': 0.301536655196002}), (1161, {'pair': 1189, 'correlation': 0.23399867891279916}), (1162, {'pair': 1389, 'correlation': 0.2446059542717708}), (1163, {'pair': 1254, 'correlation': 0.3279596862602028}), (1164, {'pair': 1286, 'correlation': 0.2330174473501285}), (1165, {'pair': 1245, 'correlation': 0.3106409368496721}), (1166, {'pair': 1277, 'correlation': 0.2793669861981887}), (1167, {'pair': 1245, 'correlation': 0.31955655713424574}), (1168, {'pair': 1215, 'correlation': 0.3004241710661562}), (1169, {'pair': 1816, 'correlation': 0.19353835447243758}), (1170, {'pair': 1200, 'correlation': 0.23127889333424104}), (1171, {'pair': 1308, 'correlation': 0.30432223944855935}), (1172, {'pair': 1200, 'correlation': 0.2317707990164468}), (1173, {'pair': 1550, 'correlation': 0.31961131085013283}), (1174, {'pair': 1186, 'correlation': 0.24748563706019558}), (1175, {'pair': 1240, 'correlation': 0.3444338483476563}), (1176, {'pair': 1433, 'correlation': 0.2908262002519584}), (1177, {'pair': 1816, 'correlation': 0.1482762258791919}), (1178, {'pair': 1440, 'correlation': 0.23932920885323747}), (1179, {'pair': 1424, 'correlation': 0.2508395901598784}), (1180, {'pair': 1255, 'correlation': 0.3088963803918086}), (1181, {'pair': 1240, 'correlation': 0.2945216422394536}), (1182, {'pair': 1433, 'correlation': 0.2525928930397779}), (1183, {'pair': 1339, 'correlation': 0.34317153827431085}), (1184, {'pair': 1372, 'correlation': 0.3076491052691963}), (1185, {'pair': 1189, 'correlation': 0.34057881285676106}), (1186, {'pair': 1224, 'correlation': 0.3805512584854546}), (1187, {'pair': 1410, 'correlation': 0.33787743706692436}), (1188, {'pair': 1209, 'correlation': 0.18510300215967943}), (1189, {'pair': 1224, 'correlation': 0.3373404706101361}), (1190, {'pair': 1296, 'correlation': 0.26484992718538325}), (1191, {'pair': 1215, 'correlation': 0.2903825980887732}), (1192, {'pair': 1243, 'correlation': 0.3622074792808516}), (1193, {'pair': 1215, 'correlation': 0.2909021199060746}), (1194, {'pair': 1230, 'correlation': 0.2828293075894557}), (1195, {'pair': 1361, 'correlation': 0.27238351930652255}), (1196, {'pair': 1374, 'correlation': 0.3451566204455143}), (1197, {'pair': 1200, 'correlation': 0.25735329958311626}), (1198, {'pair': 1328, 'correlation': 0.3029426315846827}), (1199, {'pair': 1296, 'correlation': 0.3711769746254097}), (1200, {'pair': 1215, 'correlation': 0.2810699726576228}), (1201, {'pair': 1204, 'correlation': 0.21425090814100073}), (1202, {'pair': 1247, 'correlation': 0.32179796227755864}), (1203, {'pair': 1484, 'correlation': 0.26791924110866416}), (1204, {'pair': 1408, 'correlation': 0.27264473890764057}), (1205, {'pair': 1360, 'correlation': 0.2806941588341487}), (1206, {'pair': 1349, 'correlation': 0.23227248621446936}), (1207, {'pair': 1243, 'correlation': 0.33539762539645357}), (1208, {'pair': 1794, 'correlation': 0.1831590478267234}), (1209, {'pair': 1386, 'correlation': 0.1837649841055853}), (1210, {'pair': 1466, 'correlation': 0.20101006073328825}), (1211, {'pair': 1213, 'correlation': 0.30624937881150976}), (1212, {'pair': 1219, 'correlation': 0.33772982317870875}), (1213, {'pair': 1258, 'correlation': 0.35592761300533443}), (1214, {'pair': 1296, 'correlation': 0.32142058701923876}), (1215, {'pair': 1299, 'correlation': 0.36251491778786327}), (1216, {'pair': 1315, 'correlation': 0.2869763321514839}), (1217, {'pair': 1299, 'correlation': 0.3187737888253943}), (1218, {'pair': 1244, 'correlation': 0.30625324017436606}), (1219, {'pair': 1328, 'correlation': 0.31832931754239446}), (1220, {'pair': 1239, 'correlation': 0.23964277704376433}), (1221, {'pair': 1253, 'correlation': 0.1475796185757539}), (1222, {'pair': 1581, 'correlation': 0.19270766424697647}), (1223, {'pair': 1278, 'correlation': 0.40617242304615125}), (1224, {'pair': 1266, 'correlation': 0.3809263364376711}), (1225, {'pair': 1266, 'correlation': 0.33403028495227155}), (1226, {'pair': 1328, 'correlation': 0.3133401111571643}), (1227, {'pair': 1231, 'correlation': 0.2633761080824569}), (1228, {'pair': 1328, 'correlation': 0.28863342558908}), (1229, {'pair': 1296, 'correlation': 0.3284079177239769}), (1230, {'pair': 1235, 'correlation': 0.2644190844761053}), (1231, {'pair': 1444, 'correlation': 0.29957499372669627}), (1232, {'pair': 1325, 'correlation': 0.2327235684714249}), (1233, {'pair': 1266, 'correlation': 0.31410849781296196}), (1234, {'pair': 1258, 'correlation': 0.3082092360046773}), (1235, {'pair': 1255, 'correlation': 0.24578430469023022}), (1236, {'pair': 1275, 'correlation': 0.28143566871713155}), (1237, {'pair': 1266, 'correlation': 0.23266273836442444}), (1238, {'pair': 1366, 'correlation': 0.1944548695636984}), (1239, {'pair': 1307, 'correlation': 0.2608103117543547}), (1240, {'pair': 1412, 'correlation': 0.3070621575219848}), (1241, {'pair': 1516, 'correlation': 0.33309678479711957}), (1242, {'pair': 1458, 'correlation': 0.3146119479134478}), (1243, {'pair': 1247, 'correlation': 0.3587475001988157}), (1244, {'pair': 1245, 'correlation': 0.31064621315317964}), (1245, {'pair': 1343, 'correlation': 0.3403686170923035}), (1246, {'pair': 1258, 'correlation': 0.292797907874176}), (1247, {'pair': 1266, 'correlation': 0.3534665974282864}), (1248, {'pair': 1312, 'correlation': 0.2489841344459006}), (1249, {'pair': 1261, 'correlation': 0.2913475661631931}), (1250, {'pair': 1417, 'correlation': 0.26693380515025605}), (1251, {'pair': 1336, 'correlation': 0.2800333865364617}), (1252, {'pair': 1258, 'correlation': 0.3178909942416766}), (1253, {'pair': 1315, 'correlation': 0.2928082264744058}), (1254, {'pair': 1328, 'correlation': 0.2801253578902471}), (1255, {'pair': 1327, 'correlation': 0.3002312575156035}), (1256, {'pair': 1521, 'correlation': 0.2565660380740632}), (1257, {'pair': 1429, 'correlation': 0.19761615804471944}), (1258, {'pair': 1343, 'correlation': 0.35825450653354385}), (1259, {'pair': 1339, 'correlation': 0.19353536086151515}), (1260, {'pair': 1331, 'correlation': 0.2187047594712477}), (1261, {'pair': 1290, 'correlation': 0.3221992586596527}), (1262, {'pair': 1292, 'correlation': 0.3139075312153353}), (1263, {'pair': 1418, 'correlation': 0.23837205528102293}), (1264, {'pair': 1313, 'correlation': 0.15051643230043274}), (1265, {'pair': 1299, 'correlation': 0.2967709104634559}), (1266, {'pair': 1282, 'correlation': 0.33405925128639813}), (1267, {'pair': 1380, 'correlation': 0.26367286478987934}), (1268, {'pair': 1278, 'correlation': 0.3010887579620236}), (1269, {'pair': 1292, 'correlation': 0.3173834893553389}), (1270, {'pair': 1304, 'correlation': 0.21365718565023117}), (1271, {'pair': 1714, 'correlation': 0.26438885147159064}), (1272, {'pair': 1474, 'correlation': 0.19268180713362051}), (1273, {'pair': 1290, 'correlation': 0.2660207532596067}), (1274, {'pair': 1439, 'correlation': 0.1926180901893432}), (1275, {'pair': 1290, 'correlation': 0.2999093208600091}), (1276, {'pair': 1618, 'correlation': 0.10804884938679465}), (1277, {'pair': 1793, 'correlation': 0.25433755195939545}), (1278, {'pair': 1410, 'correlation': 0.3145102434240034}), (1279, {'pair': 1671, 'correlation': 0.0962333419154081}), (1280, {'pair': 1437, 'correlation': 0.25561305329884393}), (1281, {'pair': 1618, 'correlation': 0.15591837108379242}), (1282, {'pair': 1297, 'correlation': 0.3325596172677817}), (1283, {'pair': 1490, 'correlation': 0.20922331469459834}), (1284, {'pair': 1287, 'correlation': 0.3198372390199795}), (1285, {'pair': 1292, 'correlation': 0.24871384579050068}), (1286, {'pair': 1409, 'correlation': 0.2967275480399147}), (1287, {'pair': 1453, 'correlation': 0.3725192168429735}), (1288, {'pair': 1475, 'correlation': 0.2603915135228454}), (1289, {'pair': 1327, 'correlation': 0.2616303653822335}), (1290, {'pair': 1452, 'correlation': 0.2982296316503108}), (1291, {'pair': 1379, 'correlation': 0.24876414209303913}), (1292, {'pair': 1343, 'correlation': 0.3323953249642645}), (1293, {'pair': 1296, 'correlation': 0.32292760933593}), (1294, {'pair': 1456, 'correlation': 0.12378128171182937}), (1295, {'pair': 1298, 'correlation': 0.33978301877448536}), (1296, {'pair': 1339, 'correlation': 0.32610893219339343}), (1297, {'pair': 1410, 'correlation': 0.28890258795486035}), (1298, {'pair': 1374, 'correlation': 0.32626049372526733}), (1299, {'pair': 1339, 'correlation': 0.3395869670707104}), (1300, {'pair': 1865, 'correlation': 0.1856334580287254}), (1301, {'pair': 1446, 'correlation': 0.19565189623739784}), (1302, {'pair': 1507, 'correlation': 0.2009493904001382}), (1303, {'pair': 1311, 'correlation': 0.33105559671733126}), (1304, {'pair': 1325, 'correlation': 0.25937081413821755}), (1305, {'pair': 1781, 'correlation': 0.1614571196197468}), (1306, {'pair': 1327, 'correlation': 0.1859547433428647}), (1307, {'pair': 1363, 'correlation': 0.28197271645608235}), (1308, {'pair': 1793, 'correlation': 0.23940112067704694}), (1309, {'pair': 1339, 'correlation': 0.2974706405362528}), (1310, {'pair': 1411, 'correlation': 0.22054631651168963}), (1311, {'pair': 1477, 'correlation': 0.3092126459490782}), (1312, {'pair': 1452, 'correlation': 0.212039724469009}), (1313, {'pair': 1555, 'correlation': 0.18932138781175287}), (1314, {'pair': 1315, 'correlation': 0.18156458597510175}), (1315, {'pair': 1327, 'correlation': 0.3066379444058206}), (1316, {'pair': 1584, 'correlation': 0.22475494843718402}), (1317, {'pair': 1337, 'correlation': 0.24738038550122765}), (1318, {'pair': 1563, 'correlation': 0.24370803176009317}), (1319, {'pair': 1343, 'correlation': 0.2842898511260943}), (1320, {'pair': 1408, 'correlation': 0.23899304091684556}), (1321, {'pair': 1405, 'correlation': 0.2587694076614471}), (1322, {'pair': 1408, 'correlation': 0.13235184522468452}), (1323, {'pair': 1396, 'correlation': 0.17693826176534327}), (1324, {'pair': 1328, 'correlation': 0.3140357256416469}), (1325, {'pair': 1505, 'correlation': 0.2560361182400619}), (1326, {'pair': 1343, 'correlation': 0.24134282959745026}), (1327, {'pair': 1379, 'correlation': 0.29787207287534295}), (1328, {'pair': 1377, 'correlation': 0.34343746892998095}), (1329, {'pair': 1455, 'correlation': 0.2331639412273332}), (1330, {'pair': 1498, 'correlation': 0.18791943375474704}), (1331, {'pair': 1581, 'correlation': 0.19229056576204595}), (1332, {'pair': 1529, 'correlation': 0.24764388294174505}), (1333, {'pair': 1535, 'correlation': 0.22465428938669227}), (1334, {'pair': 1392, 'correlation': 0.15607661838320314}), (1335, {'pair': 1412, 'correlation': 0.23946123464271835}), (1336, {'pair': 1636, 'correlation': 0.2534623743604424}), (1337, {'pair': 1409, 'correlation': 0.2692560313090511}), (1338, {'pair': 1339, 'correlation': 0.30864185176795944}), (1339, {'pair': 1401, 'correlation': 0.3248059048188885}), (1340, {'pair': 1467, 'correlation': 0.1692118730529449}), (1341, {'pair': 1619, 'correlation': 0.233951371449637}), (1342, {'pair': 1409, 'correlation': 0.2626583279102324}), (1343, {'pair': 1422, 'correlation': 0.3052671821861254}), (1344, {'pair': 1413, 'correlation': 0.22438391420754547}), (1345, {'pair': 1458, 'correlation': 0.2669837687421164}), (1346, {'pair': 1377, 'correlation': 0.3023584063666988}), (1347, {'pair': 1389, 'correlation': 0.20486650797670575}), (1348, {'pair': 1529, 'correlation': 0.2603086450046765}), (1349, {'pair': 1492, 'correlation': 0.14722436177104342}), (1350, {'pair': 1638, 'correlation': 0.22107864840528493}), (1351, {'pair': 1365, 'correlation': 0.20774468630271392}), (1352, {'pair': 1751, 'correlation': 0.198986044735387}), (1353, {'pair': 1433, 'correlation': 0.23643678127602547}), (1354, {'pair': 1601, 'correlation': 0.19461453367972215}), (1355, {'pair': 1379, 'correlation': 0.27916513578970986}), (1356, {'pair': 1499, 'correlation': 0.18437039336546152}), (1357, {'pair': 1505, 'correlation': 0.2259717108054751}), (1358, {'pair': 1446, 'correlation': 0.22127525045219215}), (1359, {'pair': 1401, 'correlation': 0.2346564613223828}), (1360, {'pair': 1379, 'correlation': 0.2698441554258226}), (1361, {'pair': 1397, 'correlation': 0.2658125632713422}), (1362, {'pair': 1453, 'correlation': 0.25564219815750794}), (1363, {'pair': 1422, 'correlation': 0.29445178206629713}), (1364, {'pair': 1437, 'correlation': 0.27082953131722803}), (1365, {'pair': 1403, 'correlation': 0.20014146445350564}), (1366, {'pair': 1419, 'correlation': 0.23391239470383224}), (1367, {'pair': 1839, 'correlation': 0.23632877410213313}), (1368, {'pair': 1529, 'correlation': 0.29085925530688866}), (1369, {'pair': 1377, 'correlation': 0.3092294342188039}), (1370, {'pair': 1410, 'correlation': 0.2845371540950929}), (1371, {'pair': 1374, 'correlation': 0.15201518370113404}), (1372, {'pair': 1572, 'correlation': 0.24477479229728497}), (1373, {'pair': 1446, 'correlation': 0.20881876821539755}), (1374, {'pair': 1377, 'correlation': 0.3082269544245151}), (1375, {'pair': 1397, 'correlation': 0.193726860246705}), (1376, {'pair': 1403, 'correlation': 0.12962325137757044}), (1377, {'pair': 1418, 'correlation': 0.3161974894881678}), (1378, {'pair': 1401, 'correlation': 0.20068121423609825}), (1379, {'pair': 1523, 'correlation': 0.26965289790569774}), (1380, {'pair': 1388, 'correlation': 0.2758050746745003}), (1381, {'pair': 1500, 'correlation': 0.14805390714889852}), (1382, {'pair': 1410, 'correlation': 0.24943365867521522}), (1383, {'pair': 1508, 'correlation': 0.17315426672828596}), (1384, {'pair': 1488, 'correlation': 0.20681991793648122}), (1385, {'pair': 1422, 'correlation': 0.2658136256904171}), (1386, {'pair': 1438, 'correlation': 0.2080105127056782}), (1387, {'pair': 1548, 'correlation': 0.19896256012664282}), (1388, {'pair': 1476, 'correlation': 0.25280584880483553}), (1389, {'pair': 1446, 'correlation': 0.2246235020716867}), (1390, {'pair': 1401, 'correlation': 0.11401263385485713}), (1391, {'pair': 1444, 'correlation': 0.275086725579532}), (1392, {'pair': 1426, 'correlation': 0.24195454836930064}), (1393, {'pair': 1617, 'correlation': 0.22975951420613214}), (1394, {'pair': 1569, 'correlation': 0.11285011084132428}), (1395, {'pair': 1467, 'correlation': 0.19571893526990602}), (1396, {'pair': 1432, 'correlation': 0.24347444399716658}), (1397, {'pair': 1426, 'correlation': 0.21253571688588688}), (1398, {'pair': 1503, 'correlation': 0.16034150502375824}), (1399, {'pair': 1505, 'correlation': 0.21742801820737387}), (1400, {'pair': 1451, 'correlation': 0.3134417788953992}), (1401, {'pair': 1421, 'correlation': 0.2646739650094565}), (1402, {'pair': 1514, 'correlation': 0.24443573937181798}), (1403, {'pair': 1844, 'correlation': 0.18490130790405085}), (1404, {'pair': 1469, 'correlation': 0.2493458642419002}), (1405, {'pair': 1543, 'correlation': 0.271644674871508}), (1406, {'pair': 1514, 'correlation': 0.24197922398840688}), (1407, {'pair': 1422, 'correlation': 0.21594268654026508}), (1408, {'pair': 1443, 'correlation': 0.27686215848912943}), (1409, {'pair': 1543, 'correlation': 0.2773621054346062}), (1410, {'pair': 1515, 'correlation': 0.2725274532142134}), (1411, {'pair': 1681, 'correlation': 0.2613196490955546}), (1412, {'pair': 1469, 'correlation': 0.2522653124608346}), (1413, {'pair': 1452, 'correlation': 0.22730314335498134}), (1414, {'pair': 1508, 'correlation': 0.22011915763856443}), (1415, {'pair': 1458, 'correlation': 0.1931607858457375}), (1416, {'pair': 1422, 'correlation': 0.104642665622627}), (1417, {'pair': 1529, 'correlation': 0.2569575529169319}), (1418, {'pair': 1560, 'correlation': 0.29460814283137526}), (1419, {'pair': 1501, 'correlation': 0.23394245841865846}), (1420, {'pair': 1560, 'correlation': 0.19650070619875026}), (1421, {'pair': 1529, 'correlation': 0.2322591729396426}), (1422, {'pair': 1524, 'correlation': 0.2798964616168205}), (1423, {'pair': 1656, 'correlation': 0.12003110431374137}), (1424, {'pair': 1480, 'correlation': 0.21906467383943465}), (1425, {'pair': 1547, 'correlation': 0.24715638176006327}), (1426, {'pair': 1511, 'correlation': 0.219664573497294}), (1427, {'pair': 1507, 'correlation': 0.17069250839163702}), (1428, {'pair': 1521, 'correlation': 0.22750859340050297}), (1429, {'pair': 1657, 'correlation': 0.22995856293244854}), (1430, {'pair': 1443, 'correlation': 0.14743846776557848}), (1431, {'pair': 1524, 'correlation': 0.22866401885648477}), (1432, {'pair': 1693, 'correlation': 0.19516643840002068}), (1433, {'pair': 1633, 'correlation': 0.3180596682497024}), (1434, {'pair': 1643, 'correlation': 0.20747964683197892}), (1435, {'pair': 1633, 'correlation': 0.22396382819831442}), (1436, {'pair': 1569, 'correlation': 0.2172148938039206}), (1437, {'pair': 1467, 'correlation': 0.2576493958346958}), (1438, {'pair': 1643, 'correlation': 0.23465785333083125}), (1439, {'pair': 1528, 'correlation': 0.1719576091366164}), (1440, {'pair': 1577, 'correlation': 0.24800523117065035}), (1441, {'pair': 1529, 'correlation': 0.21868741335908787}), (1442, {'pair': 1505, 'correlation': 0.20861908611182112}), (1443, {'pair': 1764, 'correlation': 0.20460543436980314}), (1444, {'pair': 1563, 'correlation': 0.2796278216492639}), (1445, {'pair': 1493, 'correlation': 0.22963378859868205}), (1446, {'pair': 1496, 'correlation': 0.20968708032619007}), (1447, {'pair': 1517, 'correlation': 0.26445627436055574}), (1448, {'pair': 1807, 'correlation': 0.1892140368843034}), (1449, {'pair': 1795, 'correlation': 0.12051061727680182}), (1450, {'pair': 1588, 'correlation': 0.29545857343671744}), (1451, {'pair': 1546, 'correlation': 0.2810382058319938}), (1452, {'pair': 1537, 'correlation': 0.24274996361097148}), (1453, {'pair': 1477, 'correlation': 0.24751459810121426}), (1454, {'pair': 1468, 'correlation': 0.19252045099144888}), (1455, {'pair': 1543, 'correlation': 0.26583842135706715}), (1456, {'pair': 1529, 'correlation': 0.200477685321928}), (1457, {'pair': 1580, 'correlation': 0.19361056852907801}), (1458, {'pair': 1505, 'correlation': 0.26401607786240855}), (1459, {'pair': 1528, 'correlation': 0.193168581752959}), (1460, {'pair': 1500, 'correlation': 0.20906950866915264}), (1461, {'pair': 1714, 'correlation': 0.23701720054681355}), (1462, {'pair': 1527, 'correlation': 0.25073135267547486}), (1463, {'pair': 1623, 'correlation': 0.16082425554498744}), (1464, {'pair': 1601, 'correlation': 0.20708094165467503}), (1465, {'pair': 1515, 'correlation': 0.19893437331387887}), (1466, {'pair': 1644, 'correlation': 0.16136282964952595}), (1467, {'pair': 1475, 'correlation': 0.2675392848918358}), (1468, {'pair': 1786, 'correlation': 0.25961158893570746}), (1469, {'pair': 1471, 'correlation': 0.27519936433939796}), (1470, {'pair': 1500, 'correlation': 0.23114339518207508}), (1471, {'pair': 1501, 'correlation': 0.2656911676464611}), (1472, {'pair': 1560, 'correlation': 0.20858440333764328}), (1473, {'pair': 1605, 'correlation': 0.2052101208772727}), (1474, {'pair': 1543, 'correlation': 0.2156657236635132}), (1475, {'pair': 1543, 'correlation': 0.25786594569614224}), (1476, {'pair': 1516, 'correlation': 0.21810338012287886}), (1477, {'pair': 1692, 'correlation': 0.2428363096957742}), (1478, {'pair': 1602, 'correlation': 0.17167485998228224}), (1479, {'pair': 1560, 'correlation': 0.2154567572054843}), (1480, {'pair': 1776, 'correlation': 0.1658434542780135}), (1481, {'pair': 1492, 'correlation': 0.17532711258726819}), (1482, {'pair': 1523, 'correlation': 0.23368604733209947}), (1483, {'pair': 1559, 'correlation': 0.19079340875298934}), (1484, {'pair': 1656, 'correlation': 0.23140543967678415}), (1485, {'pair': 1505, 'correlation': 0.2233204227732693}), (1486, {'pair': 1572, 'correlation': 0.16309982296636624}), (1487, {'pair': 1505, 'correlation': 0.1917055477665718}), (1488, {'pair': 1543, 'correlation': 0.23077936751495887}), (1489, {'pair': 1528, 'correlation': 0.13765102468161686}), (1490, {'pair': 1637, 'correlation': 0.18406078312069157}), (1491, {'pair': 1658, 'correlation': 0.19357520389615632}), (1492, {'pair': 1686, 'correlation': 0.17287248925436804}), (1493, {'pair': 1582, 'correlation': 0.20978052177235437}), (1494, {'pair': 1527, 'correlation': 0.17549533645583718}), (1495, {'pair': 1566, 'correlation': 0.17400612010969888}), (1496, {'pair': 1524, 'correlation': 0.23894326041997568}), (1497, {'pair': 1707, 'correlation': 0.13463299342079024}), (1498, {'pair': 1623, 'correlation': 0.22743418190423642}), (1499, {'pair': 1534, 'correlation': 0.20246977095062263}), (1500, {'pair': 1514, 'correlation': 0.27492352781079826}), (1501, {'pair': 1516, 'correlation': 0.26763894589252735}), (1502, {'pair': 1543, 'correlation': 0.22852312361098692}), (1503, {'pair': 1572, 'correlation': 0.24578472993378814}), (1504, {'pair': 1560, 'correlation': 0.22723738072202063}), (1505, {'pair': 1617, 'correlation': 0.2411811335073975}), (1506, {'pair': 1582, 'correlation': 0.1878623726283164}), (1507, {'pair': 1656, 'correlation': 0.1872576545103951}), (1508, {'pair': 1524, 'correlation': 0.23509481434861426}), (1509, {'pair': 1729, 'correlation': 0.13949730064866928}), (1510, {'pair': 1548, 'correlation': 0.15648523032583878}), (1511, {'pair': 1532, 'correlation': 0.20994648063904725}), (1512, {'pair': 1516, 'correlation': 0.1774567067601077}), (1513, {'pair': 1543, 'correlation': 0.2395775615477351}), (1514, {'pair': 1516, 'correlation': 0.24528383489173353}), (1515, {'pair': 1543, 'correlation': 0.22886829521588398}), (1516, {'pair': 1640, 'correlation': 0.27097853582138426}), (1517, {'pair': 1681, 'correlation': 0.26198673341504075}), (1518, {'pair': 1543, 'correlation': 0.23288030004032542}), (1519, {'pair': 1681, 'correlation': 0.18153151763989028}), (1520, {'pair': 1560, 'correlation': 0.20522932116268497}), (1521, {'pair': 1546, 'correlation': 0.25389559808782886}), (1522, {'pair': 1534, 'correlation': 0.2357199393765624}), (1523, {'pair': 1864, 'correlation': 0.19860437082780413}), (1524, {'pair': 1569, 'correlation': 0.2540663682553705}), (1525, {'pair': 1645, 'correlation': 0.15740619595051245}), (1526, {'pair': 1529, 'correlation': 0.22799705718355404}), (1527, {'pair': 1543, 'correlation': 0.20886691404006705}), (1528, {'pair': 1652, 'correlation': 0.18551288755983214}), (1529, {'pair': 1561, 'correlation': 0.2598162537757528}), (1530, {'pair': 1535, 'correlation': 0.15025105637169386}), (1531, {'pair': 1692, 'correlation': 0.18592922423928288}), (1532, {'pair': 1617, 'correlation': 0.22555047109384183}), (1533, {'pair': 1543, 'correlation': 0.1607668988028767}), (1534, {'pair': 1564, 'correlation': 0.19280971043467232}), (1535, {'pair': 1578, 'correlation': 0.18306327620185248}), (1536, {'pair': 1664, 'correlation': 0.19471634892591158}), (1537, {'pair': 1564, 'correlation': 0.2071272297085238}), (1538, {'pair': 1649, 'correlation': 0.20686070306093668}), (1539, {'pair': 1543, 'correlation': 0.18694736397981943}), (1540, {'pair': 1714, 'correlation': 0.1610498803307828}), (1541, {'pair': 1699, 'correlation': 0.18085014323496612}), (1542, {'pair': 1690, 'correlation': 0.19480378123760944}), (1543, {'pair': 1733, 'correlation': 0.22948029469814782}), (1544, {'pair': 1560, 'correlation': 0.25135596618458383}), (1545, {'pair': 1623, 'correlation': 0.20653843321126655}), (1546, {'pair': 1691, 'correlation': 0.24669838474953198}), (1547, {'pair': 1560, 'correlation': 0.22041031510190662}), (1548, {'pair': 1571, 'correlation': 0.16483686874762615}), (1549, {'pair': 1566, 'correlation': 0.14583034047706794}), (1550, {'pair': 1633, 'correlation': 0.18062689265280618}), (1551, {'pair': 1693, 'correlation': 0.18073841932216148}), (1552, {'pair': 1562, 'correlation': 0.0847791224657525}), (1553, {'pair': 1692, 'correlation': 0.18070931593783227}), (1554, {'pair': 1669, 'correlation': 0.14420540319293526}), (1555, {'pair': 1637, 'correlation': 0.15336874775914047}), (1556, {'pair': 1560, 'correlation': 0.09851963602261442}), (1557, {'pair': 1566, 'correlation': 0.1728914324576117}), (1558, {'pair': 1569, 'correlation': 0.19269287224119958}), (1559, {'pair': 1569, 'correlation': 0.24125787682512106}), (1560, {'pair': 1605, 'correlation': 0.2565915536827666}), (1561, {'pair': 1691, 'correlation': 0.2494046565445808}), (1562, {'pair': 1569, 'correlation': 0.25613055098431786}), (1563, {'pair': 1687, 'correlation': 0.23176157221325924}), (1564, {'pair': 1764, 'correlation': 0.18124398505247108}), (1565, {'pair': 1809, 'correlation': 0.16710444616651784}), (1566, {'pair': 1572, 'correlation': 0.19121671816213492}), (1567, {'pair': 1620, 'correlation': 0.14101307016669618}), (1568, {'pair': 1652, 'correlation': 0.17414022239814153}), (1569, {'pair': 1659, 'correlation': 0.23803620967169425}), (1570, {'pair': 1577, 'correlation': 0.22576736476099346}), (1571, {'pair': 1725, 'correlation': 0.15694189534361114}), (1572, {'pair': 1893, 'correlation': 0.18769040371742599}), (1573, {'pair': 1688, 'correlation': 0.1956446288821026}), (1574, {'pair': 1614, 'correlation': 0.16814045967177424}), (1575, {'pair': 1704, 'correlation': 0.1481880644337556}), (1576, {'pair': 1589, 'correlation': 0.17005342492483932}), (1577, {'pair': 1640, 'correlation': 0.2146471350786008}), (1578, {'pair': 1614, 'correlation': 0.19284602027521122}), (1579, {'pair': 1638, 'correlation': 0.2059867973175853}), (1580, {'pair': 1944, 'correlation': 0.1442582932049808}), (1581, {'pair': 1582, 'correlation': 0.1451869854417815}), (1582, {'pair': 1605, 'correlation': 0.22394905449101188}), (1583, {'pair': 1602, 'correlation': 0.2079234408748288}), (1584, {'pair': 1630, 'correlation': 0.14830317618629552}), (1585, {'pair': 1732, 'correlation': 0.1622757857710988}), (1586, {'pair': 1590, 'correlation': 0.19412387069038334}), (1587, {'pair': 1699, 'correlation': 0.1617803656674586}), (1588, {'pair': 1633, 'correlation': 0.22896283921062457}), (1589, {'pair': 1691, 'correlation': 0.19830397551895634}), (1590, {'pair': 1681, 'correlation': 0.20218802066621}), (1591, {'pair': 1662, 'correlation': 0.14218762849530342}), (1592, {'pair': 1656, 'correlation': 0.12109659374673637}), (1593, {'pair': 1681, 'correlation': 0.179334649735807}), (1594, {'pair': 1663, 'correlation': 0.16295188935270413}), (1595, {'pair': 1622, 'correlation': 0.1982304551861109}), (1596, {'pair': 1615, 'correlation': 0.19293567909557374}), (1597, {'pair': 1729, 'correlation': 0.1590115248148533}), (1598, {'pair': 1688, 'correlation': 0.20008318461999647}), (1599, {'pair': 1707, 'correlation': 0.18990881102416488}), (1600, {'pair': 1659, 'correlation': 0.17571013846422184}), (1601, {'pair': 1623, 'correlation': 0.1883880198771424}), (1602, {'pair': 1638, 'correlation': 0.20033696738592827}), (1603, {'pair': 1647, 'correlation': 0.1768121794583139}), (1604, {'pair': 1626, 'correlation': 0.19890884995010094}), (1605, {'pair': 1694, 'correlation': 0.2254421544134102}), (1606, {'pair': 1692, 'correlation': 0.2024190187878147}), (1607, {'pair': 1666, 'correlation': 0.16576595695936533}), (1608, {'pair': 1659, 'correlation': 0.21926896350450129}), (1609, {'pair': 1614, 'correlation': 0.14721555746272852}), (1610, {'pair': 1799, 'correlation': 0.22799026140618547}), (1611, {'pair': 1681, 'correlation': 0.20303084558428722}), (1612, {'pair': 1675, 'correlation': 0.15058210218518336}), (1613, {'pair': 1703, 'correlation': 0.11126859867146807}), (1614, {'pair': 1681, 'correlation': 0.22033453407968248}), (1615, {'pair': 1681, 'correlation': 0.20569145863284535}), (1616, {'pair': 1793, 'correlation': 0.17913540060870484}), (1617, {'pair': 1690, 'correlation': 0.21366953330695568}), (1618, {'pair': 1624, 'correlation': 0.15123710063885812}), (1619, {'pair': 1793, 'correlation': 0.18361504320446764}), (1620, {'pair': 1664, 'correlation': 0.18724979861015262}), (1621, {'pair': 1638, 'correlation': 0.15096499440485367}), (1622, {'pair': 1927, 'correlation': 0.11555121616341346}), (1623, {'pair': 1626, 'correlation': 0.21578531340615337}), (1624, {'pair': 1890, 'correlation': 0.1411786977974774}), (1625, {'pair': 1655, 'correlation': 0.15676041142178454}), (1626, {'pair': 1679, 'correlation': 0.1884343188212488}), (1627, {'pair': 1643, 'correlation': 0.15243410212083527}), (1628, {'pair': 1694, 'correlation': 0.1787986782740738}), (1629, {'pair': 1656, 'correlation': 0.11490120473061505}), (1630, {'pair': 1709, 'correlation': 0.14605788022132327}), (1631, {'pair': 1654, 'correlation': 0.12419857276285766}), (1632, {'pair': 1674, 'correlation': 0.1731129913809566}), (1633, {'pair': 1907, 'correlation': 0.16820083108038583}), (1634, {'pair': 1656, 'correlation': 0.10455643857889063}), (1635, {'pair': 1638, 'correlation': 0.19715074579961583}), (1636, {'pair': 1715, 'correlation': 0.20110725676148714}), (1637, {'pair': 1642, 'correlation': 0.16140149074666685}), (1638, {'pair': 1651, 'correlation': 0.19121359852686615}), (1639, {'pair': 1730, 'correlation': 0.11695718693655689}), (1640, {'pair': 1681, 'correlation': 0.23056282733218536}), (1641, {'pair': 1715, 'correlation': 0.1347190882814927}), (1642, {'pair': 1809, 'correlation': 0.13221699977104667}), (1643, {'pair': 1699, 'correlation': 0.1763674957433047}), (1644, {'pair': 1662, 'correlation': 0.16294814631157994}), (1645, {'pair': 1690, 'correlation': 0.17006477662461092}), (1646, {'pair': 1652, 'correlation': 0.0822228466960164}), (1647, {'pair': 1666, 'correlation': 0.18698739396688013}), (1648, {'pair': 1893, 'correlation': 0.16407861111551664}), (1649, {'pair': 1681, 'correlation': 0.21217761328341855}), (1650, {'pair': 1673, 'correlation': 0.14531308390968803}), (1651, {'pair': 1659, 'correlation': 0.1847737124332307}), (1652, {'pair': 1674, 'correlation': 0.17462238850345882}), (1653, {'pair': 1809, 'correlation': 0.11914193388503942}), (1654, {'pair': 1670, 'correlation': 0.14650408294090478}), (1655, {'pair': 1723, 'correlation': 0.18057419695064186}), (1656, {'pair': 1809, 'correlation': 0.13805245555714696}), (1657, {'pair': 1681, 'correlation': 0.1696795325701897}), (1658, {'pair': 1681, 'correlation': 0.1470859364486118}), (1659, {'pair': 1690, 'correlation': 0.205436766959067}), (1660, {'pair': 1690, 'correlation': 0.14862940783055334}), (1661, {'pair': 1681, 'correlation': 0.16900909459044228}), (1662, {'pair': 1681, 'correlation': 0.19059660121716843}), (1663, {'pair': 1673, 'correlation': 0.17742201993827753}), (1664, {'pair': 1706, 'correlation': 0.17360107292294033}), (1665, {'pair': 1670, 'correlation': 0.10533053277717377}), (1666, {'pair': 1752, 'correlation': 0.17916809361093772}), (1667, {'pair': 1681, 'correlation': 0.164560289648109}), (1668, {'pair': 1681, 'correlation': 0.16784896465008525}), (1669, {'pair': 1677, 'correlation': 0.1583513016494506}), (1670, {'pair': 1715, 'correlation': 0.12207462159065058}), (1671, {'pair': 1714, 'correlation': 0.10495730121035332}), (1672, {'pair': 1707, 'correlation': 0.1762412854375328}), (1673, {'pair': 1752, 'correlation': 0.17555774826383527}), (1674, {'pair': 1731, 'correlation': 0.19291747949272403}), (1675, {'pair': 1764, 'correlation': 0.13072211030697303}), (1676, {'pair': 1690, 'correlation': 0.14126651998861686}), (1677, {'pair': 1817, 'correlation': 0.17342926236834813}), (1678, {'pair': 1751, 'correlation': 0.13656771377487303}), (1679, {'pair': 1888, 'correlation': 0.1353600947302537}), (1680, {'pair': 1703, 'correlation': 0.12444411522852876}), (1681, {'pair': 1716, 'correlation': 0.2061665803212429}), (1682, {'pair': 1864, 'correlation': 0.10061607809523522}), (1683, {'pair': 1715, 'correlation': 0.14429836923037284}), (1684, {'pair': 1731, 'correlation': 0.1583100794556801}), (1685, {'pair': 1691, 'correlation': 0.11851387053495659}), (1686, {'pair': 1764, 'correlation': 0.15038981484348268}), (1687, {'pair': 1761, 'correlation': 0.17614476059723555}), (1688, {'pair': 1707, 'correlation': 0.17684924108416894}), (1689, {'pair': 1690, 'correlation': 0.1461686407358204}), (1690, {'pair': 1706, 'correlation': 0.166384760860471}), (1691, {'pair': 1743, 'correlation': 0.1838358989229345}), (1692, {'pair': 1700, 'correlation': 0.17716750451011204}), (1693, {'pair': 1738, 'correlation': 0.14797172478202444}), (1694, {'pair': 1731, 'correlation': 0.18337624961011015}), (1695, {'pair': 1716, 'correlation': 0.17019949371871318}), (1696, {'pair': 1717, 'correlation': 0.16639678743784295}), (1697, {'pair': 1726, 'correlation': 0.10563150866520961}), (1698, {'pair': 1908, 'correlation': 0.16724622838128644}), (1699, {'pair': 1733, 'correlation': 0.1580287837914179}), (1700, {'pair': 1707, 'correlation': 0.1584264550320966}), (1701, {'pair': 1856, 'correlation': 0.13152085718167303}), (1702, {'pair': 1708, 'correlation': 0.10883662998788655}), (1703, {'pair': 1731, 'correlation': 0.15755211470325786}), (1704, {'pair': 1768, 'correlation': 0.14312649680106285}), (1705, {'pair': 1743, 'correlation': 0.10582088813967953}), (1706, {'pair': 1739, 'correlation': 0.16112507796525286}), (1707, {'pair': 1752, 'correlation': 0.15651866815282386}), (1708, {'pair': 1716, 'correlation': 0.17837733930255056}), (1709, {'pair': 1784, 'correlation': 0.1285146268650593}), (1710, {'pair': 1846, 'correlation': 0.10146687481455753}), (1711, {'pair': 1727, 'correlation': 0.19785098211970412}), (1712, {'pair': 1729, 'correlation': 0.14476335156014894}), (1713, {'pair': 1788, 'correlation': 0.12499150913304935}), (1714, {'pair': 1763, 'correlation': 0.15674897748532673}), (1715, {'pair': 1716, 'correlation': 0.19530592585457796}), (1716, {'pair': 1811, 'correlation': 0.1687858837023815}), (1717, {'pair': 1733, 'correlation': 0.17612080521021473}), (1718, {'pair': 1731, 'correlation': 0.13752196699680486}), (1719, {'pair': 1733, 'correlation': 0.11546667555615935}), (1720, {'pair': 1846, 'correlation': 0.10117970090224013}), (1721, {'pair': 1743, 'correlation': 0.15046075645988985}), (1722, {'pair': 1723, 'correlation': 0.11447180643525484}), (1723, {'pair': 1732, 'correlation': 0.1292320751810415}), (1724, {'pair': 1750, 'correlation': 0.16368050427699396}), (1725, {'pair': 1739, 'correlation': 0.15636728948853929}), (1726, {'pair': 1832, 'correlation': 0.11467620225672222}), (1727, {'pair': 1759, 'correlation': 0.1615300406913852}), (1728, {'pair': 1787, 'correlation': 0.11513868662356479}), (1729, {'pair': 1734, 'correlation': 0.11404593786858618}), (1730, {'pair': 1736, 'correlation': 0.1392381577369202}), (1731, {'pair': 1743, 'correlation': 0.1558578804062767}), (1732, {'pair': 1797, 'correlation': 0.1270026456807683}), (1733, {'pair': 1917, 'correlation': 0.1566480607042254}), (1734, {'pair': 1815, 'correlation': 0.11246377552120189}), (1735, {'pair': 1944, 'correlation': 0.11940221245398257}), (1736, {'pair': 1740, 'correlation': 0.13751613895474946}), (1737, {'pair': 1798, 'correlation': 0.1246966213086962}), (1738, {'pair': 1757, 'correlation': 0.13047257924619346}), (1739, {'pair': 1751, 'correlation': 0.13877580877444634}), (1740, {'pair': 1852, 'correlation': 0.13874253631226113}), (1741, {'pair': 2006, 'correlation': 0.10801536556304704}), (1742, {'pair': 1795, 'correlation': 0.09617572118796118}), (1743, {'pair': 1772, 'correlation': 0.18055702806664436}), (1744, {'pair': 1822, 'correlation': 0.11030105420690924}), (1745, {'pair': 1793, 'correlation': 0.16917822522306486}), (1746, {'pair': 1864, 'correlation': 0.09787672080944117}), (1747, {'pair': 1763, 'correlation': 0.17536407311706426}), (1748, {'pair': 1766, 'correlation': 0.12441218093506164}), (1749, {'pair': 1864, 'correlation': 0.15303226115351015}), (1750, {'pair': 1908, 'correlation': 0.14223493223129524}), (1751, {'pair': 1797, 'correlation': 0.13657578689300903}), (1752, {'pair': 1812, 'correlation': 0.14590704380891037}), (1753, {'pair': 1765, 'correlation': 0.10740311882695622}), (1754, {'pair': 1876, 'correlation': 0.10899540883219716}), (1755, {'pair': 1757, 'correlation': 0.12211728890465308}), (1756, {'pair': 1790, 'correlation': 0.08528926551284498}), (1757, {'pair': 1895, 'correlation': 0.11305164316112959}), (1758, {'pair': 1810, 'correlation': 0.1105581571652261}), (1759, {'pair': 1766, 'correlation': 0.13509253019205056}), (1760, {'pair': 1772, 'correlation': 0.06870650511873862}), (1761, {'pair': 1893, 'correlation': 0.1082309698518391}), (1762, {'pair': 1839, 'correlation': 0.10640521809971053}), (1763, {'pair': 1807, 'correlation': 0.15946190786514775}), (1764, {'pair': 1786, 'correlation': 0.14556832645373455}), (1765, {'pair': 1917, 'correlation': 0.14854368875309407}), (1766, {'pair': 1772, 'correlation': 0.12720398680794373}), (1767, {'pair': 1822, 'correlation': 0.10300788101293766}), (1768, {'pair': 1774, 'correlation': 0.12264864866179216}), (1769, {'pair': 1824, 'correlation': 0.10041680251088056}), (1770, {'pair': 1822, 'correlation': 0.08940151320958886}), (1771, {'pair': 1774, 'correlation': 0.11102776535312556}), (1772, {'pair': 1813, 'correlation': 0.12455280891488028}), (1773, {'pair': 1784, 'correlation': 0.10622456277648289}), (1774, {'pair': 1893, 'correlation': 0.1153943404291109}), (1775, {'pair': 1803, 'correlation': 0.049157289498331924}), (1776, {'pair': 1978, 'correlation': 0.09888606004355095}), (1777, {'pair': 1784, 'correlation': 0.11302133984372456}), (1778, {'pair': 1809, 'correlation': 0.1201863710384918}), (1779, {'pair': 1796, 'correlation': 0.09458835666262223}), (1780, {'pair': 1807, 'correlation': 0.1211823966477945}), (1781, {'pair': 1799, 'correlation': 0.15780905363416592}), (1782, {'pair': 1815, 'correlation': 0.1210773579178437}), (1783, {'pair': 1793, 'correlation': 0.16994397963517877}), (1784, {'pair': 1896, 'correlation': 0.12152525164800983}), (1785, {'pair': 1801, 'correlation': 0.06529625302952793}), (1786, {'pair': 1792, 'correlation': 0.11771353939468708}), (1787, {'pair': 1944, 'correlation': 0.08845801039710689}), (1788, {'pair': 1842, 'correlation': 0.10363777368532293}), (1789, {'pair': 1812, 'correlation': 0.10850324916508511}), (1790, {'pair': 1896, 'correlation': 0.08568908200641126}), (1791, {'pair': 1884, 'correlation': 0.12289132495663678}), (1792, {'pair': 1958, 'correlation': 0.12691245260000128}), (1793, {'pair': 1925, 'correlation': 0.10526727795114284}), (1794, {'pair': 1830, 'correlation': 0.07184998884285103}), (1795, {'pair': 1797, 'correlation': 0.13508815911808714}), (1796, {'pair': 2000, 'correlation': 0.11488954375834433}), (1797, {'pair': 1833, 'correlation': 0.13323103833103175}), (1798, {'pair': 1801, 'correlation': 0.06552490600809638}), (1799, {'pair': 1804, 'correlation': 0.1085781724755461}), (1800, {'pair': 1822, 'correlation': 0.0932217113017982}), (1801, {'pair': 1923, 'correlation': 0.10970233057630327}), (1802, {'pair': 1906, 'correlation': 0.07865482691861894}), (1803, {'pair': 1813, 'correlation': 0.08971471867141947}), (1804, {'pair': 2006, 'correlation': 0.10088569112428264}), (1805, {'pair': 1823, 'correlation': 0.09390921632952365}), (1806, {'pair': 1819, 'correlation': 0.11087713277809456}), (1807, {'pair': 1832, 'correlation': 0.1224740693528709}), (1808, {'pair': 1908, 'correlation': 0.12906006349276175}), (1809, {'pair': 1852, 'correlation': 0.12879353267961086}), (1810, {'pair': 1822, 'correlation': 0.11210051264914321}), (1811, {'pair': 1896, 'correlation': 0.13056850268062942}), (1812, {'pair': 1838, 'correlation': 0.11608801335999445}), (1813, {'pair': 1829, 'correlation': 0.12113884505583519}), (1814, {'pair': 1864, 'correlation': 0.09406553820727688}), (1815, {'pair': 2012, 'correlation': 0.10187972031391951}), (1816, {'pair': 1820, 'correlation': 0.09899234964284513}), (1817, {'pair': 1918, 'correlation': 0.09547710855474403}), (1818, {'pair': 1862, 'correlation': 0.08062045042092619}), (1819, {'pair': 1855, 'correlation': 0.09820441331154152}), (1820, {'pair': 1896, 'correlation': 0.09423458089384563}), (1821, {'pair': 1923, 'correlation': 0.08974790417692241}), (1822, {'pair': 1906, 'correlation': 0.10803957011189885}), (1823, {'pair': 1867, 'correlation': 0.12455799616168878}), (1824, {'pair': 1855, 'correlation': 0.08361105384074319}), (1825, {'pair': 1908, 'correlation': 0.11134806014377877}), (1826, {'pair': 1852, 'correlation': 0.09929680087410013}), (1827, {'pair': 1893, 'correlation': 0.11652865103943987}), (1828, {'pair': 1838, 'correlation': 0.07344703148260605}), (1829, {'pair': 1950, 'correlation': 0.07498982748375883}), (1830, {'pair': 1884, 'correlation': 0.07548221756201415}), (1831, {'pair': 1832, 'correlation': 0.1043892807372775}), (1832, {'pair': 1944, 'correlation': 0.1316539940247327}), (1833, {'pair': 1895, 'correlation': 0.10040187406615082}), (1834, {'pair': 1908, 'correlation': 0.11438788626369044}), (1835, {'pair': 1845, 'correlation': 0.0777212017367786}), (1836, {'pair': 1841, 'correlation': 0.09322909337397815}), (1837, {'pair': 1914, 'correlation': 0.08979717525454034}), (1838, {'pair': 1947, 'correlation': 0.09118437120111206}), (1839, {'pair': 1853, 'correlation': 0.13402371253679632}), (1840, {'pair': 1895, 'correlation': 0.07244847650408819}), (1841, {'pair': 1944, 'correlation': 0.10802665040430473}), (1842, {'pair': 1876, 'correlation': 0.0929607245213117}), (1843, {'pair': 1908, 'correlation': 0.09386116473613836}), (1844, {'pair': 1928, 'correlation': 0.13839935734422992}), (1845, {'pair': 1959, 'correlation': 0.08499750966466278}), (1846, {'pair': 1896, 'correlation': 0.10313891262301057}), (1847, {'pair': 2005, 'correlation': 0.03968815799787}), (1848, {'pair': 1895, 'correlation': 0.10736848732014266}), (1849, {'pair': 1958, 'correlation': 0.1136635652683233}), (1850, {'pair': 1895, 'correlation': 0.0782787858629436}), (1851, {'pair': 1906, 'correlation': 0.07371425188427633}), (1852, {'pair': 1923, 'correlation': 0.10656824111554097}), (1853, {'pair': 2035, 'correlation': 0.07784714930997767}), (1854, {'pair': 1895, 'correlation': 0.10414697164420587}), (1855, {'pair': 1918, 'correlation': 0.08490232590119132}), (1856, {'pair': 1948, 'correlation': 0.09661195797169699}), (1857, {'pair': 1959, 'correlation': 0.09199750882183759}), (1858, {'pair': 1876, 'correlation': 0.052317391593569545}), (1859, {'pair': 1896, 'correlation': 0.07843172504040881}), (1860, {'pair': 1927, 'correlation': 0.0586887285961294}), (1861, {'pair': 1868, 'correlation': 0.07588090408413925}), (1862, {'pair': 1933, 'correlation': 0.10513539060715116}), (1863, {'pair': 1944, 'correlation': 0.08050181094223365}), (1864, {'pair': 1908, 'correlation': 0.14672485094835525}), (1865, {'pair': 1962, 'correlation': 0.0997638635907222}), (1866, {'pair': 1918, 'correlation': 0.06462963073005269}), (1867, {'pair': 1954, 'correlation': 0.06240271880291323}), (1868, {'pair': 1936, 'correlation': 0.07428030048548526}), (1869, {'pair': 1935, 'correlation': 0.08938007306075896}), (1870, {'pair': 1962, 'correlation': 0.07832566032768236}), (1871, {'pair': 1947, 'correlation': 0.09682486473328111}), (1872, {'pair': 1958, 'correlation': 0.06697155903651439}), (1873, {'pair': 1917, 'correlation': 0.11423818811442586}), (1874, {'pair': 1962, 'correlation': 0.07523195535472851}), (1875, {'pair': 2021, 'correlation': 0.06510318871220448}), (1876, {'pair': 1880, 'correlation': 0.0882975770407467}), (1877, {'pair': 2009, 'correlation': 0.058832503394352705}), (1878, {'pair': 1898, 'correlation': 0.08200693132439131}), (1879, {'pair': 1920, 'correlation': 0.06875906746285852}), (1880, {'pair': 1962, 'correlation': 0.10807044735674534}), (1881, {'pair': 1908, 'correlation': 0.057803259490970954}), (1882, {'pair': 1883, 'correlation': 0.0708548521280499}), (1883, {'pair': 1895, 'correlation': 0.07720849715741887}), (1884, {'pair': 1973, 'correlation': 0.0802452867014499}), (1885, {'pair': 1893, 'correlation': 0.14011482402335873}), (1886, {'pair': 1906, 'correlation': 0.05911087562070046}), (1887, {'pair': 1944, 'correlation': 0.07208616182744937}), (1888, {'pair': 1920, 'correlation': 0.12185824067416556}), (1889, {'pair': 1895, 'correlation': 0.0625747342459219}), (1890, {'pair': 1896, 'correlation': 0.0858196933735824}), (1891, {'pair': 1895, 'correlation': 0.08749652924211723}), (1892, {'pair': 1896, 'correlation': 0.07154284843244178}), (1893, {'pair': 1945, 'correlation': 0.11798441649327071}), (1894, {'pair': 1939, 'correlation': 0.06242740544773002}), (1895, {'pair': 1904, 'correlation': 0.09309125576013462}), (1896, {'pair': 1906, 'correlation': 0.08353869912416757}), (1897, {'pair': 1906, 'correlation': 0.08454726179930443}), (1898, {'pair': 1990, 'correlation': 0.06331820595339208}), (1899, {'pair': 1924, 'correlation': 0.10316582843055881}), (1900, {'pair': 1927, 'correlation': 0.0749659845802099}), (1901, {'pair': 1902, 'correlation': 0.042980045774560764}), (1902, {'pair': 1971, 'correlation': 0.06535190397558079}), (1903, {'pair': 1936, 'correlation': 0.0439982772063404}), (1904, {'pair': 1919, 'correlation': 0.058447603459516245}), (1905, {'pair': 1932, 'correlation': 0.05078543601544385}), (1906, {'pair': 1966, 'correlation': 0.06261652190212444}), (1907, {'pair': 1948, 'correlation': 0.09264808710989156}), (1908, {'pair': 1934, 'correlation': 0.10534150620700322}), (1909, {'pair': 1920, 'correlation': 0.08335146691460303}), (1910, {'pair': 2009, 'correlation': 0.06589477511889952}), (1911, {'pair': 1945, 'correlation': 0.043099001605397806}), (1912, {'pair': 1996, 'correlation': 0.04692606104469045}), (1913, {'pair': 1956, 'correlation': 0.06532478196032795}), (1914, {'pair': 1982, 'correlation': 0.06651783652635378}), (1915, {'pair': 1997, 'correlation': 0.03449211925921816}), (1916, {'pair': 2026, 'correlation': 0.0533734345441417}), (1917, {'pair': 1958, 'correlation': 0.12034203077511883}), (1918, {'pair': 1974, 'correlation': 0.07027972506915159}), (1919, {'pair': 1945, 'correlation': 0.06165926463283674}), (1920, {'pair': 2010, 'correlation': 0.0844761139226207}), (1921, {'pair': 1939, 'correlation': 0.07743911372230601}), (1922, {'pair': 1982, 'correlation': 0.055962049718871254}), (1923, {'pair': 1929, 'correlation': 0.09408637462902306}), (1924, {'pair': 1961, 'correlation': 0.10595740826627824}), (1925, {'pair': 2009, 'correlation': 0.060010216724611085}), (1926, {'pair': 1962, 'correlation': 0.0741361033007541}), (1927, {'pair': 1992, 'correlation': 0.07084299306955101}), (1928, {'pair': 1962, 'correlation': 0.07588134235367464}), (1929, {'pair': 1973, 'correlation': 0.05914999277397973}), (1930, {'pair': 1950, 'correlation': 0.04770347121479265}), (1931, {'pair': 1954, 'correlation': 0.07585667879501383}), (1932, {'pair': 2009, 'correlation': 0.0563155642760415}), (1933, {'pair': 1990, 'correlation': 0.10759362121041921}), (1934, {'pair': 1947, 'correlation': 0.08225486710329614}), (1935, {'pair': 1945, 'correlation': 0.056478488526451154}), (1936, {'pair': 1992, 'correlation': 0.06083614365423451}), (1937, {'pair': 1992, 'correlation': 0.04776047187631875}), (1938, {'pair': 2009, 'correlation': 0.053005994532103896}), (1939, {'pair': 2018, 'correlation': 0.0488985730447082}), (1940, {'pair': 1962, 'correlation': 0.05121873817934403}), (1941, {'pair': 1988, 'correlation': 0.05521873219302493}), (1942, {'pair': 2000, 'correlation': 0.04714385759485676}), (1943, {'pair': 1959, 'correlation': 0.0727376194571221}), (1944, {'pair': 1950, 'correlation': 0.08232796371710133}), (1945, {'pair': 1951, 'correlation': 0.06703583747476104}), (1946, {'pair': 2044, 'correlation': 0.0422543732745856}), (1947, {'pair': 1967, 'correlation': 0.0820351294736069}), (1948, {'pair': 2009, 'correlation': 0.051381481733393256}), (1949, {'pair': 1990, 'correlation': 0.04058962314406195}), (1950, {'pair': 1973, 'correlation': 0.06572659275998832}), (1951, {'pair': 1975, 'correlation': 0.04129748783659529}), (1952, {'pair': 1992, 'correlation': 0.055819909148085954}), (1953, {'pair': 2022, 'correlation': 0.04046698508296901}), (1954, {'pair': 2010, 'correlation': 0.07614925226020308}), (1955, {'pair': 2029, 'correlation': 0.03688600243454192}), (1956, {'pair': 2009, 'correlation': 0.04255673799079661}), (1957, {'pair': 2000, 'correlation': 0.05672784649619304}), (1958, {'pair': 1959, 'correlation': 0.1246656838644504}), (1959, {'pair': 1967, 'correlation': 0.08965931908891746}), (1960, {'pair': 1965, 'correlation': 0.02772058662878476}), (1961, {'pair': 1981, 'correlation': 0.0652448322054481}), (1962, {'pair': 2014, 'correlation': 0.03860254493626952}), (1963, {'pair': 2032, 'correlation': 0.03964489423107065}), (1964, {'pair': 2042, 'correlation': 0.029102984192868178}), (1965, {'pair': 1970, 'correlation': 0.05457211638808594}), (1966, {'pair': 1982, 'correlation': 0.042022017764680196}), (1967, {'pair': 1981, 'correlation': 0.07272042901184787}), (1968, {'pair': 1988, 'correlation': 0.03745894918385617}), (1969, {'pair': 1978, 'correlation': 0.0562766770784892}), (1970, {'pair': 2018, 'correlation': 0.04750119430733762}), (1971, {'pair': 2005, 'correlation': 0.07538480422943472}), (1972, {'pair': 2041, 'correlation': 0.04096413341442114}), (1973, {'pair': 1977, 'correlation': 0.04988044244252797}), (1974, {'pair': 2018, 'correlation': 0.05740903288492219}), (1975, {'pair': 2006, 'correlation': 0.0636595572988705}), (1976, {'pair': 2042, 'correlation': 0.039215165159198415}), (1977, {'pair': 1998, 'correlation': 0.03309048297962156}), (1978, {'pair': 1981, 'correlation': 0.039594729188509016}), (1979, {'pair': 2000, 'correlation': 0.05674773034818944}), (1980, {'pair': 2040, 'correlation': 0.0369416433195502}), (1981, {'pair': 2005, 'correlation': 0.10059317732571808}), (1982, {'pair': 2040, 'correlation': 0.05683787177043051}), (1983, {'pair': 1994, 'correlation': 0.0553977681970525}), (1984, {'pair': 2010, 'correlation': 0.06535166331204335}), (1985, {'pair': 2039, 'correlation': 0.031252620118160886}), (1986, {'pair': 2040, 'correlation': 0.05122855801498089}), (1987, {'pair': 2027, 'correlation': 0.038304354265489546}), (1988, {'pair': 2042, 'correlation': 0.047651652007873094}), (1989, {'pair': 2025, 'correlation': 0.04183592382544936}), (1990, {'pair': 1992, 'correlation': 0.07124568412195546}), (1991, {'pair': 2010, 'correlation': 0.0526980611783375}), (1992, {'pair': 2034, 'correlation': 0.033911833515978186}), (1993, {'pair': 2027, 'correlation': 0.045252350346403104}), (1994, {'pair': 2043, 'correlation': 0.044088380109940345}), (1995, {'pair': 2039, 'correlation': 0.02446327208425094}), (1996, {'pair': 2017, 'correlation': 0.06878829431120091}), (1997, {'pair': 1998, 'correlation': 0.028639865954997092}), (1998, {'pair': 2010, 'correlation': 0.04154504808097397}), (1999, {'pair': 2033, 'correlation': 0.03361490834521812}), (2000, {'pair': 2005, 'correlation': 0.0697763844784069}), (2001, {'pair': 2016, 'correlation': 0.04462228636924912}), (2002, {'pair': 2026, 'correlation': 0.0372281369291809}), (2003, {'pair': 2025, 'correlation': 0.044357494226950005}), (2004, {'pair': 2032, 'correlation': 0.04391392312790841}), (2005, {'pair': 2023, 'correlation': 0.060830207423209354}), (2006, {'pair': 2029, 'correlation': 0.04109267010816196}), (2007, {'pair': 2022, 'correlation': 0.04403327967330631}), (2008, {'pair': 2026, 'correlation': 0.0302751945233888}), (2009, {'pair': 2042, 'correlation': 0.041878863883126664}), (2010, {'pair': 2037, 'correlation': 0.02523623788878341}), (2011, {'pair': 2043, 'correlation': 0.0300876171281917}), (2012, {'pair': 2017, 'correlation': 0.05991093916108966}), (2013, {'pair': 2014, 'correlation': 0.03268799366641714}), (2014, {'pair': 2021, 'correlation': 0.04669165469434556}), (2015, {'pair': 2041, 'correlation': 0.03406124761573484}), (2016, {'pair': 2022, 'correlation': 0.04237457895419969}), (2017, {'pair': 2023, 'correlation': 0.0449031957440777}), (2018, {'pair': 2042, 'correlation': 0.027933958257062786}), (2019, {'pair': 2029, 'correlation': 0.025409098581495385}), (2020, {'pair': 2024, 'correlation': 0.03597906745046893}), (2021, {'pair': 2042, 'correlation': 0.039173921982126485}), (2022, {'pair': 2042, 'correlation': 0.021947548690193698}), (2023, {'pair': 2037, 'correlation': 0.03418436855017562}), (2024, {'pair': 2039, 'correlation': 0.01511199176327195}), (2025, {'pair': 2030, 'correlation': 0.024776789874353295}), (2026, {'pair': 2042, 'correlation': 0.02568152725668713}), (2027, {'pair': 2034, 'correlation': 0.042363678138649004}), (2028, {'pair': 2037, 'correlation': 0.040372068845628814}), (2029, {'pair': 2044, 'correlation': 0.029194454385272472}), (2030, {'pair': 2039, 'correlation': 0.013683278460177183}), (2031, {'pair': 2032, 'correlation': 0.027125577942363477}), (2032, {'pair': 2042, 'correlation': 0.02500654229873032}), (2033, {'pair': 2040, 'correlation': 0.02259218221772431}), (2034, {'pair': 2043, 'correlation': 0.013758898263491465}), (2035, {'pair': 2041, 'correlation': 0.04666107551210066}), (2036, {'pair': 2038, 'correlation': 0.011956713878999213}), (2037, {'pair': 2042, 'correlation': 0.01518392140289928}), (2038, {'pair': 2044, 'correlation': 0.024184679094672003}), (2039, {'pair': 2042, 'correlation': 0.013767164313569872}), (2040, {'pair': 2044, 'correlation': 0.02127950193406653}), (2041, {'pair': 2043, 'correlation': -0.001132022782550869}), (2042, {'pair': 2044, 'correlation': 0.015424645356738634}), (2043, {'pair': 2044, 'correlation': -0.008715017286756869}), (2044, {'pair': 0, 'correlation': -1.0})])"
      ]
     },
     "execution_count": 32,
     "metadata": {},
     "output_type": "execute_result"
    }
   ],
   "source": [
    "pairs.items()"
   ]
  },
  {
   "cell_type": "code",
   "execution_count": 20,
   "id": "f108db8c-102c-4547-b9d1-9b19e83c183c",
   "metadata": {},
   "outputs": [
    {
     "name": "stdout",
     "output_type": "stream",
     "text": [
      "8180\n",
      "4090\n",
      "2045\n"
     ]
    }
   ],
   "source": [
    "## iterative course-graining function\n",
    "\n",
    "count = 0\n",
    "leftover = [] # neurons leftover \n",
    "cond=True\n",
    "\n",
    "#Loop while cond is True\n",
    "#=======================\n",
    "while cond==True:\n",
    "    print(regtrace.shape[0])\n",
    "    leftover.append(regtrace.shape[0])\n",
    "    if np.mod(regtrace.shape[0],2) ==1:\n",
    "        break\n",
    "    \n",
    "        used_neurons.add(highest_corr_n)\n",
    "\n",
    "    #step 3: merge paired neurons by summing activity\n",
    "    groups = []\n",
    "    #Loop through all pairs\n",
    "    #=====================\n",
    "    for n1, corr in pairs.items():\n",
    "        n2 = corr[\"pair\"]\n",
    "        summed_activity = regtrace[n1] + regtrace[n2]\n",
    "        groups.append(summed_activity)\n",
    "\n",
    "    # make new array\n",
    "    regtrace_new = np.array(groups)\n",
    "\n",
    "    # stop when neurons left aren't enough to be paired\n",
    "    #convert cond bool to False \n",
    "    if regtrace_new.shape[0] <= 1: \n",
    "        cond = False\n",
    "        \n",
    "    regtrace = regtrace_new\n",
    "    count += 1\n",
    "\n",
    "\n",
    "\n"
   ]
  },
  {
   "cell_type": "code",
   "execution_count": 10,
   "id": "ddc3af00-4ff3-4425-a818-04f30dd8462b",
   "metadata": {},
   "outputs": [],
   "source": [
    "## iterative course-graining function\n",
    "\n",
    "def icg(regtrace):\n",
    "    count = 0\n",
    "    leftover = [] # neurons leftover \n",
    "    cond=True\n",
    "\n",
    "    #Loop while cond is True\n",
    "    #=======================\n",
    "    while cond==True:\n",
    "        print(regtrace.shape[0])\n",
    "        leftover.append(regtrace.shape[0])\n",
    "        \n",
    "        #step 1: compute correlation between all neurons or neuron clusters(np.corrcoef)\n",
    "        corr_matrix = np.corrcoef(regtrace) # each row of `x` represents a variable, each column a single observation of all those variables\n",
    "        \n",
    "        #step 2: greedily pair the neurons based on the correlation\n",
    "        pairs = {}\n",
    "        used_neurons = set()\n",
    "        #Loop across all neurons \n",
    "        #========================\n",
    "        for neuron in range(corr_matrix.shape[0]):\n",
    "            if neuron in used_neurons: # skip paired\n",
    "                continue\n",
    "            neuron_corrs = corr_matrix[neuron] #corr value of neuron\n",
    "            neuron_corrs[neuron] = -1 # (n1,n1)\n",
    "            neuron_corrs[list(used_neurons)] = -1 # used set to -1\n",
    "            highest_corr_n = np.argmax(neuron_corrs)  #highest corr\n",
    "            \n",
    "            pairs[neuron] = {\n",
    "                \"pair\": highest_corr_n,\n",
    "                \"correlation\": corr_matrix[neuron, highest_corr_n]\n",
    "            }\n",
    "            used_neurons.add(neuron)\n",
    "            used_neurons.add(highest_corr_n)\n",
    "\n",
    "        #step 3: merge paired neurons by summing activity\n",
    "        groups = []\n",
    "        #Loop through all pairs\n",
    "        #=====================\n",
    "        for n1, corr in pairs.items():\n",
    "            n2 = corr[\"pair\"]\n",
    "            summed_activity = regtrace[n1] + regtrace[n2]\n",
    "            groups.append(summed_activity)\n",
    "\n",
    "        # make new array\n",
    "        regtrace_new = np.array(groups)\n",
    "\n",
    "        # stop when neurons left aren't enough to be paired\n",
    "        #convert cond bool to False \n",
    "        if regtrace_new.shape[0] <= 1: \n",
    "            cond = False\n",
    "            \n",
    "        regtrace = regtrace_new\n",
    "        count += 1\n",
    "\n",
    "    final_iteration = count+1\n",
    "    unpaired_leftover = regtrace.shape[0]\n",
    "    print('Iterations needed:', final_iteration)\n",
    "    print('Neurons leftover:', unpaired_leftover)\n",
    "    \n",
    "    return final_iteration, unpaired_leftover, regtrace"
   ]
  },
  {
   "cell_type": "code",
   "execution_count": null,
   "id": "8a480ccf-6910-47f6-bb8c-7e49e31d4a41",
   "metadata": {},
   "outputs": [],
   "source": [
    "#figure out how to deal with odd cases"
   ]
  },
  {
   "cell_type": "code",
   "execution_count": 11,
   "id": "03990e85-3ef3-4aef-8aae-f734a1c3c0b1",
   "metadata": {},
   "outputs": [
    {
     "name": "stdout",
     "output_type": "stream",
     "text": [
      "8180\n",
      "4090\n",
      "2045\n",
      "1023\n",
      "512\n",
      "256\n",
      "128\n",
      "64\n",
      "32\n",
      "16\n",
      "8\n",
      "4\n",
      "2\n",
      "Iterations needed: 14\n",
      "Neurons leftover: 1\n"
     ]
    }
   ],
   "source": [
    "final_iteration, unpaired_leftover, final_activity_matrix = icg(regtrace)"
   ]
  },
  {
   "cell_type": "code",
   "execution_count": 50,
   "id": "6359201d-8679-4d22-b6ce-b418edeb49dd",
   "metadata": {},
   "outputs": [
    {
     "data": {
      "text/plain": [
       "(13,\n",
       " 2,\n",
       " array([[16699.97780348, 18404.08630127, 19484.30879964, ...,\n",
       "          8387.00656301,  8395.38258826,  8210.13907849],\n",
       "        [ 9402.83509575,  9754.91726334,  9984.65978755, ...,\n",
       "         15924.63301213, 15569.43508555, 15597.46439749]]))"
      ]
     },
     "execution_count": 50,
     "metadata": {},
     "output_type": "execute_result"
    }
   ],
   "source": [
    "final_iteration, unpaired_leftover, final_activity_matrix"
   ]
  },
  {
   "cell_type": "code",
   "execution_count": null,
   "id": "5c907b58-86db-412f-a018-25cd8dead751",
   "metadata": {},
   "outputs": [],
   "source": []
  }
 ],
 "metadata": {
  "kernelspec": {
   "display_name": "Python 3 (ipykernel)",
   "language": "python",
   "name": "python3"
  },
  "language_info": {
   "codemirror_mode": {
    "name": "ipython",
    "version": 3
   },
   "file_extension": ".py",
   "mimetype": "text/x-python",
   "name": "python",
   "nbconvert_exporter": "python",
   "pygments_lexer": "ipython3",
   "version": "3.11.5"
  }
 },
 "nbformat": 4,
 "nbformat_minor": 5
}
